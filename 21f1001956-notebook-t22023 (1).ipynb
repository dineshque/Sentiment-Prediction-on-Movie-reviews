{
 "cells": [
  {
   "cell_type": "code",
   "execution_count": 1,
   "id": "7a5f0a7c",
   "metadata": {
    "_cell_guid": "b1076dfc-b9ad-4769-8c92-a6c4dae69d19",
    "_uuid": "8f2839f25d086af736a60e9eeb907d3b93b6e0e5",
    "execution": {
     "iopub.execute_input": "2023-08-13T16:21:57.183050Z",
     "iopub.status.busy": "2023-08-13T16:21:57.182495Z",
     "iopub.status.idle": "2023-08-13T16:21:57.199011Z",
     "shell.execute_reply": "2023-08-13T16:21:57.197747Z"
    },
    "papermill": {
     "duration": 0.042548,
     "end_time": "2023-08-13T16:21:57.201739",
     "exception": false,
     "start_time": "2023-08-13T16:21:57.159191",
     "status": "completed"
    },
    "tags": []
   },
   "outputs": [
    {
     "name": "stdout",
     "output_type": "stream",
     "text": [
      "/kaggle/input/sentiment-prediction-on-movie-reviews/movies.csv\n",
      "/kaggle/input/sentiment-prediction-on-movie-reviews/sample.csv\n",
      "/kaggle/input/sentiment-prediction-on-movie-reviews/train.csv\n",
      "/kaggle/input/sentiment-prediction-on-movie-reviews/test.csv\n"
     ]
    }
   ],
   "source": [
    "# This Python 3 environment comes with many helpful analytics libraries installed\n",
    "# It is defined by the kaggle/python Docker image: https://github.com/kaggle/docker-python\n",
    "# For example, here's several helpful packages to load\n",
    "\n",
    "import numpy as np # linear algebra\n",
    "import pandas as pd # data processing, CSV file I/O (e.g. pd.read_csv)\n",
    "\n",
    "# Input data files are available in the read-only \"../input/\" directory\n",
    "# For example, running this (by clicking run or pressing Shift+Enter) will list all files under the input directory\n",
    "\n",
    "import os\n",
    "for dirname, _, filenames in os.walk('/kaggle/input'):\n",
    "    for filename in filenames:\n",
    "        print(os.path.join(dirname, filename))\n",
    "\n",
    "# You can write up to 20GB to the current directory (/kaggle/working/) that gets preserved as output when you create a version using \"Save & Run All\" \n",
    "# You can also write temporary files to /kaggle/temp/, but they won't be saved outside of the current session"
   ]
  },
  {
   "cell_type": "markdown",
   "id": "b4f42439",
   "metadata": {
    "papermill": {
     "duration": 0.02149,
     "end_time": "2023-08-13T16:21:57.244898",
     "exception": false,
     "start_time": "2023-08-13T16:21:57.223408",
     "status": "completed"
    },
    "tags": []
   },
   "source": [
    "# *Step:1* Data Loading"
   ]
  },
  {
   "cell_type": "code",
   "execution_count": 2,
   "id": "ee5847d8",
   "metadata": {
    "execution": {
     "iopub.execute_input": "2023-08-13T16:21:57.289873Z",
     "iopub.status.busy": "2023-08-13T16:21:57.289475Z",
     "iopub.status.idle": "2023-08-13T16:21:59.731914Z",
     "shell.execute_reply": "2023-08-13T16:21:59.730648Z"
    },
    "papermill": {
     "duration": 2.467444,
     "end_time": "2023-08-13T16:21:59.734607",
     "exception": false,
     "start_time": "2023-08-13T16:21:57.267163",
     "status": "completed"
    },
    "tags": []
   },
   "outputs": [
    {
     "data": {
      "text/plain": [
       "(162758, 5)"
      ]
     },
     "execution_count": 2,
     "metadata": {},
     "output_type": "execute_result"
    }
   ],
   "source": [
    "# Loading Data\n",
    "train  = pd.read_csv(\"/kaggle/input/sentiment-prediction-on-movie-reviews/train.csv\")\n",
    "test = pd.read_csv(\"/kaggle/input/sentiment-prediction-on-movie-reviews/test.csv\")\n",
    "movies = pd.read_csv(\"/kaggle/input/sentiment-prediction-on-movie-reviews/movies.csv\")\n",
    "train.shape"
   ]
  },
  {
   "cell_type": "code",
   "execution_count": 3,
   "id": "aaa2ac1f",
   "metadata": {
    "execution": {
     "iopub.execute_input": "2023-08-13T16:21:59.779654Z",
     "iopub.status.busy": "2023-08-13T16:21:59.779218Z",
     "iopub.status.idle": "2023-08-13T16:21:59.785690Z",
     "shell.execute_reply": "2023-08-13T16:21:59.784490Z"
    },
    "papermill": {
     "duration": 0.032997,
     "end_time": "2023-08-13T16:21:59.789093",
     "exception": false,
     "start_time": "2023-08-13T16:21:59.756096",
     "status": "completed"
    },
    "tags": []
   },
   "outputs": [
    {
     "name": "stdout",
     "output_type": "stream",
     "text": [
      "Feature list: ['movieid' 'reviewerName' 'isFrequentReviewer' 'reviewText']\n",
      "Label: ['sentiment']\n"
     ]
    }
   ],
   "source": [
    "feature_list = train.columns[:-1].values\n",
    "label = [train.columns[-1]]\n",
    "\n",
    "print (\"Feature list:\", feature_list)\n",
    "print (\"Label:\", label)"
   ]
  },
  {
   "cell_type": "code",
   "execution_count": 4,
   "id": "9aabe062",
   "metadata": {
    "execution": {
     "iopub.execute_input": "2023-08-13T16:21:59.834096Z",
     "iopub.status.busy": "2023-08-13T16:21:59.833655Z",
     "iopub.status.idle": "2023-08-13T16:21:59.839682Z",
     "shell.execute_reply": "2023-08-13T16:21:59.838526Z"
    },
    "papermill": {
     "duration": 0.031476,
     "end_time": "2023-08-13T16:21:59.842581",
     "exception": false,
     "start_time": "2023-08-13T16:21:59.811105",
     "status": "completed"
    },
    "tags": []
   },
   "outputs": [
    {
     "name": "stdout",
     "output_type": "stream",
     "text": [
      "Feature list: ['movieid' 'title' 'audienceScore' 'rating' 'ratingContents'\n",
      " 'releaseDateTheaters' 'releaseDateStreaming' 'runtimeMinutes' 'genre'\n",
      " 'originalLanguage' 'director' 'boxOffice' 'distributor']\n"
     ]
    }
   ],
   "source": [
    "feature_list = movies.columns[:-1].values\n",
    "print (\"Feature list:\", feature_list)"
   ]
  },
  {
   "cell_type": "markdown",
   "id": "14f9cb94",
   "metadata": {
    "papermill": {
     "duration": 0.021849,
     "end_time": "2023-08-13T16:21:59.886290",
     "exception": false,
     "start_time": "2023-08-13T16:21:59.864441",
     "status": "completed"
    },
    "tags": []
   },
   "source": [
    "# *Step 2:* Data Preprocessing"
   ]
  },
  {
   "cell_type": "markdown",
   "id": "4d625583",
   "metadata": {
    "papermill": {
     "duration": 0.020971,
     "end_time": "2023-08-13T16:21:59.928512",
     "exception": false,
     "start_time": "2023-08-13T16:21:59.907541",
     "status": "completed"
    },
    "tags": []
   },
   "source": [
    "### Choosing row which have minimum null values within specific movieid"
   ]
  },
  {
   "cell_type": "code",
   "execution_count": 5,
   "id": "8046ccd7",
   "metadata": {
    "execution": {
     "iopub.execute_input": "2023-08-13T16:21:59.972733Z",
     "iopub.status.busy": "2023-08-13T16:21:59.972347Z",
     "iopub.status.idle": "2023-08-13T16:23:05.551412Z",
     "shell.execute_reply": "2023-08-13T16:23:05.550201Z"
    },
    "papermill": {
     "duration": 65.604722,
     "end_time": "2023-08-13T16:23:05.554312",
     "exception": false,
     "start_time": "2023-08-13T16:21:59.949590",
     "status": "completed"
    },
    "tags": []
   },
   "outputs": [],
   "source": [
    "# Choosing those rows which have minimum null values per movieid\n",
    "\n",
    "# Calculate the null counts for each row\n",
    "null_counts = movies.isnull().sum(axis=1)\n",
    "\n",
    "min_null_counts_per_movieid = movies.groupby('movieid')['movieid'].transform(lambda x: null_counts[x.index].min())\n",
    "\n",
    "# Create a boolean mask for rows with minimum null counts within each 'movieid' group\n",
    "mask = null_counts == min_null_counts_per_movieid\n",
    "\n",
    "movies_filtered_rows = movies[mask]\n",
    "\n",
    "movies = pd.DataFrame(movies_filtered_rows)"
   ]
  },
  {
   "cell_type": "markdown",
   "id": "2b32fc31",
   "metadata": {
    "papermill": {
     "duration": 0.021411,
     "end_time": "2023-08-13T16:23:05.599200",
     "exception": false,
     "start_time": "2023-08-13T16:23:05.577789",
     "status": "completed"
    },
    "tags": []
   },
   "source": [
    "##### This method is decreasing null values"
   ]
  },
  {
   "cell_type": "markdown",
   "id": "6f588df4",
   "metadata": {
    "papermill": {
     "duration": 0.020744,
     "end_time": "2023-08-13T16:23:05.640937",
     "exception": false,
     "start_time": "2023-08-13T16:23:05.620193",
     "status": "completed"
    },
    "tags": []
   },
   "source": [
    "## Remove Duplicated"
   ]
  },
  {
   "cell_type": "code",
   "execution_count": 6,
   "id": "53830ec1",
   "metadata": {
    "execution": {
     "iopub.execute_input": "2023-08-13T16:23:05.684858Z",
     "iopub.status.busy": "2023-08-13T16:23:05.684430Z",
     "iopub.status.idle": "2023-08-13T16:23:05.884175Z",
     "shell.execute_reply": "2023-08-13T16:23:05.882865Z"
    },
    "papermill": {
     "duration": 0.224926,
     "end_time": "2023-08-13T16:23:05.886997",
     "exception": false,
     "start_time": "2023-08-13T16:23:05.662071",
     "status": "completed"
    },
    "tags": []
   },
   "outputs": [],
   "source": [
    "train.drop_duplicates(inplace = True)\n",
    "movies.drop_duplicates(subset=['movieid'], inplace = True)"
   ]
  },
  {
   "cell_type": "code",
   "execution_count": 7,
   "id": "e678cd1a",
   "metadata": {
    "execution": {
     "iopub.execute_input": "2023-08-13T16:23:05.932321Z",
     "iopub.status.busy": "2023-08-13T16:23:05.931859Z",
     "iopub.status.idle": "2023-08-13T16:23:05.937835Z",
     "shell.execute_reply": "2023-08-13T16:23:05.936526Z"
    },
    "papermill": {
     "duration": 0.031145,
     "end_time": "2023-08-13T16:23:05.940261",
     "exception": false,
     "start_time": "2023-08-13T16:23:05.909116",
     "status": "completed"
    },
    "tags": []
   },
   "outputs": [
    {
     "name": "stdout",
     "output_type": "stream",
     "text": [
      "(161640, 5)\n",
      "(126404, 14)\n"
     ]
    }
   ],
   "source": [
    "# Shape after removing duplicates\n",
    "print(train.shape)\n",
    "print(movies.shape)"
   ]
  },
  {
   "cell_type": "markdown",
   "id": "dbe738a7",
   "metadata": {
    "papermill": {
     "duration": 0.020804,
     "end_time": "2023-08-13T16:23:05.982393",
     "exception": false,
     "start_time": "2023-08-13T16:23:05.961589",
     "status": "completed"
    },
    "tags": []
   },
   "source": [
    "## Joining both data"
   ]
  },
  {
   "cell_type": "code",
   "execution_count": 8,
   "id": "98f3dfd9",
   "metadata": {
    "execution": {
     "iopub.execute_input": "2023-08-13T16:23:06.026732Z",
     "iopub.status.busy": "2023-08-13T16:23:06.025930Z",
     "iopub.status.idle": "2023-08-13T16:23:06.304083Z",
     "shell.execute_reply": "2023-08-13T16:23:06.303159Z"
    },
    "papermill": {
     "duration": 0.302813,
     "end_time": "2023-08-13T16:23:06.306309",
     "exception": false,
     "start_time": "2023-08-13T16:23:06.003496",
     "status": "completed"
    },
    "tags": []
   },
   "outputs": [
    {
     "data": {
      "text/plain": [
       "(161640, 18)"
      ]
     },
     "execution_count": 8,
     "metadata": {},
     "output_type": "execute_result"
    }
   ],
   "source": [
    "data = pd.merge(train, movies, on=\"movieid\", how=\"left\")\n",
    "data.shape"
   ]
  },
  {
   "cell_type": "code",
   "execution_count": 9,
   "id": "338eea26",
   "metadata": {
    "execution": {
     "iopub.execute_input": "2023-08-13T16:23:06.351117Z",
     "iopub.status.busy": "2023-08-13T16:23:06.350383Z",
     "iopub.status.idle": "2023-08-13T16:23:06.512329Z",
     "shell.execute_reply": "2023-08-13T16:23:06.510997Z"
    },
    "papermill": {
     "duration": 0.186966,
     "end_time": "2023-08-13T16:23:06.514783",
     "exception": false,
     "start_time": "2023-08-13T16:23:06.327817",
     "status": "completed"
    },
    "tags": []
   },
   "outputs": [
    {
     "data": {
      "text/plain": [
       "(55315, 17)"
      ]
     },
     "execution_count": 9,
     "metadata": {},
     "output_type": "execute_result"
    }
   ],
   "source": [
    "test = pd.merge(test, movies, on=\"movieid\", how=\"left\")\n",
    "test.shape"
   ]
  },
  {
   "cell_type": "markdown",
   "id": "b9e37b5a",
   "metadata": {
    "papermill": {
     "duration": 0.021834,
     "end_time": "2023-08-13T16:23:06.558684",
     "exception": false,
     "start_time": "2023-08-13T16:23:06.536850",
     "status": "completed"
    },
    "tags": []
   },
   "source": [
    "## Saperate Features and Label"
   ]
  },
  {
   "cell_type": "code",
   "execution_count": 10,
   "id": "b2fa0939",
   "metadata": {
    "execution": {
     "iopub.execute_input": "2023-08-13T16:23:06.605429Z",
     "iopub.status.busy": "2023-08-13T16:23:06.605023Z",
     "iopub.status.idle": "2023-08-13T16:23:06.628285Z",
     "shell.execute_reply": "2023-08-13T16:23:06.627156Z"
    },
    "papermill": {
     "duration": 0.049352,
     "end_time": "2023-08-13T16:23:06.631029",
     "exception": false,
     "start_time": "2023-08-13T16:23:06.581677",
     "status": "completed"
    },
    "tags": []
   },
   "outputs": [],
   "source": [
    "X = data.drop(['sentiment','movieid','title', 'releaseDateTheaters', 'releaseDateStreaming', 'director', 'soundType'],axis = 1)\n",
    "y =  data['sentiment']"
   ]
  },
  {
   "cell_type": "code",
   "execution_count": 11,
   "id": "79588739",
   "metadata": {
    "execution": {
     "iopub.execute_input": "2023-08-13T16:23:06.678239Z",
     "iopub.status.busy": "2023-08-13T16:23:06.677786Z",
     "iopub.status.idle": "2023-08-13T16:23:06.685282Z",
     "shell.execute_reply": "2023-08-13T16:23:06.684377Z"
    },
    "papermill": {
     "duration": 0.033783,
     "end_time": "2023-08-13T16:23:06.687384",
     "exception": false,
     "start_time": "2023-08-13T16:23:06.653601",
     "status": "completed"
    },
    "tags": []
   },
   "outputs": [
    {
     "data": {
      "text/plain": [
       "array(['reviewerName', 'isFrequentReviewer', 'reviewText',\n",
       "       'audienceScore', 'rating', 'ratingContents', 'runtimeMinutes',\n",
       "       'genre', 'originalLanguage', 'boxOffice', 'distributor'],\n",
       "      dtype=object)"
      ]
     },
     "execution_count": 11,
     "metadata": {},
     "output_type": "execute_result"
    }
   ],
   "source": [
    "# Selected Columns\n",
    "X.columns.values"
   ]
  },
  {
   "cell_type": "code",
   "execution_count": 12,
   "id": "9562057a",
   "metadata": {
    "execution": {
     "iopub.execute_input": "2023-08-13T16:23:06.733837Z",
     "iopub.status.busy": "2023-08-13T16:23:06.733336Z",
     "iopub.status.idle": "2023-08-13T16:23:06.749544Z",
     "shell.execute_reply": "2023-08-13T16:23:06.748626Z"
    },
    "papermill": {
     "duration": 0.042149,
     "end_time": "2023-08-13T16:23:06.752326",
     "exception": false,
     "start_time": "2023-08-13T16:23:06.710177",
     "status": "completed"
    },
    "tags": []
   },
   "outputs": [],
   "source": [
    "final_x_test = test.drop([ 'movieid','title', 'releaseDateTheaters', 'releaseDateStreaming', 'director', 'soundType'],axis = 1)\n",
    "\n",
    "# Renaming from isTopCritic to isFrequentReviewer\n",
    "final_x_test.rename(columns={'isTopCritic': 'isFrequentReviewer'}, inplace=True)"
   ]
  },
  {
   "cell_type": "markdown",
   "id": "b234a74e",
   "metadata": {
    "papermill": {
     "duration": 0.021437,
     "end_time": "2023-08-13T16:23:06.796104",
     "exception": false,
     "start_time": "2023-08-13T16:23:06.774667",
     "status": "completed"
    },
    "tags": []
   },
   "source": [
    "## Spliting data"
   ]
  },
  {
   "cell_type": "code",
   "execution_count": 13,
   "id": "1d04a89c",
   "metadata": {
    "execution": {
     "iopub.execute_input": "2023-08-13T16:23:06.841805Z",
     "iopub.status.busy": "2023-08-13T16:23:06.841386Z",
     "iopub.status.idle": "2023-08-13T16:23:08.289766Z",
     "shell.execute_reply": "2023-08-13T16:23:08.288535Z"
    },
    "papermill": {
     "duration": 1.475004,
     "end_time": "2023-08-13T16:23:08.292745",
     "exception": false,
     "start_time": "2023-08-13T16:23:06.817741",
     "status": "completed"
    },
    "tags": []
   },
   "outputs": [],
   "source": [
    "from sklearn.model_selection import train_test_split\n",
    "X_train, X_test, y_train, y_test = train_test_split(X,y ,test_size = 0.2,  random_state = 0)"
   ]
  },
  {
   "cell_type": "markdown",
   "id": "ab3e0ea8",
   "metadata": {
    "papermill": {
     "duration": 0.021397,
     "end_time": "2023-08-13T16:23:08.335933",
     "exception": false,
     "start_time": "2023-08-13T16:23:08.314536",
     "status": "completed"
    },
    "tags": []
   },
   "source": [
    "## Boxoffice column modification"
   ]
  },
  {
   "cell_type": "code",
   "execution_count": 14,
   "id": "6ab13e19",
   "metadata": {
    "execution": {
     "iopub.execute_input": "2023-08-13T16:23:08.380822Z",
     "iopub.status.busy": "2023-08-13T16:23:08.380436Z",
     "iopub.status.idle": "2023-08-13T16:23:09.535495Z",
     "shell.execute_reply": "2023-08-13T16:23:09.534435Z"
    },
    "papermill": {
     "duration": 1.181107,
     "end_time": "2023-08-13T16:23:09.538642",
     "exception": false,
     "start_time": "2023-08-13T16:23:08.357535",
     "status": "completed"
    },
    "tags": []
   },
   "outputs": [],
   "source": [
    "# Converting into K(thousands) values\n",
    "X_train['boxOffice'] = X_train['boxOffice'].replace({'\\$': '', 'M': 'e3', 'K': ''}, regex=True).astype(float)\n",
    "X_test['boxOffice'] = X_test['boxOffice'].replace({'\\$': '', 'M': 'e3', 'K': ''}, regex=True).astype(float)\n",
    "final_x_test['boxOffice'] = final_x_test['boxOffice'].replace({'\\$': '', 'M': 'e3', 'K': ''}, regex=True).astype(float)"
   ]
  },
  {
   "cell_type": "markdown",
   "id": "386cac1a",
   "metadata": {
    "papermill": {
     "duration": 0.021153,
     "end_time": "2023-08-13T16:23:09.581901",
     "exception": false,
     "start_time": "2023-08-13T16:23:09.560748",
     "status": "completed"
    },
    "tags": []
   },
   "source": [
    "## Handling missing values"
   ]
  },
  {
   "cell_type": "code",
   "execution_count": 15,
   "id": "85b3fb20",
   "metadata": {
    "execution": {
     "iopub.execute_input": "2023-08-13T16:23:09.627807Z",
     "iopub.status.busy": "2023-08-13T16:23:09.626727Z",
     "iopub.status.idle": "2023-08-13T16:23:09.791356Z",
     "shell.execute_reply": "2023-08-13T16:23:09.790254Z"
    },
    "papermill": {
     "duration": 0.18994,
     "end_time": "2023-08-13T16:23:09.793703",
     "exception": false,
     "start_time": "2023-08-13T16:23:09.603763",
     "status": "completed"
    },
    "tags": []
   },
   "outputs": [
    {
     "data": {
      "text/plain": [
       "reviewerName           0.00\n",
       "isFrequentReviewer     0.00\n",
       "reviewText             3.95\n",
       "audienceScore          1.93\n",
       "rating                28.08\n",
       "ratingContents        28.08\n",
       "runtimeMinutes         0.46\n",
       "genre                  0.32\n",
       "originalLanguage       0.50\n",
       "boxOffice             20.91\n",
       "distributor           13.42\n",
       "dtype: float64"
      ]
     },
     "execution_count": 15,
     "metadata": {},
     "output_type": "execute_result"
    }
   ],
   "source": [
    "#  % of missing values\n",
    "round((X_train.isnull().sum() / len(X_train)) * 100,2)"
   ]
  },
  {
   "cell_type": "code",
   "execution_count": 16,
   "id": "db7edb42",
   "metadata": {
    "execution": {
     "iopub.execute_input": "2023-08-13T16:23:09.839313Z",
     "iopub.status.busy": "2023-08-13T16:23:09.838894Z",
     "iopub.status.idle": "2023-08-13T16:23:10.082425Z",
     "shell.execute_reply": "2023-08-13T16:23:10.081486Z"
    },
    "papermill": {
     "duration": 0.26916,
     "end_time": "2023-08-13T16:23:10.085005",
     "exception": false,
     "start_time": "2023-08-13T16:23:09.815845",
     "status": "completed"
    },
    "tags": []
   },
   "outputs": [],
   "source": [
    "# Importing Libraries for handling missing values using ColumnTransformer\n",
    "from sklearn.compose import ColumnTransformer\n",
    "from sklearn.preprocessing import StandardScaler, OneHotEncoder, LabelEncoder, MinMaxScaler\n",
    "from sklearn.impute import SimpleImputer"
   ]
  },
  {
   "cell_type": "code",
   "execution_count": 17,
   "id": "badf0626",
   "metadata": {
    "execution": {
     "iopub.execute_input": "2023-08-13T16:23:10.131217Z",
     "iopub.status.busy": "2023-08-13T16:23:10.130240Z",
     "iopub.status.idle": "2023-08-13T16:23:10.299052Z",
     "shell.execute_reply": "2023-08-13T16:23:10.297430Z"
    },
    "papermill": {
     "duration": 0.194393,
     "end_time": "2023-08-13T16:23:10.301642",
     "exception": false,
     "start_time": "2023-08-13T16:23:10.107249",
     "status": "completed"
    },
    "tags": []
   },
   "outputs": [
    {
     "name": "stdout",
     "output_type": "stream",
     "text": [
      "<class 'pandas.core.frame.DataFrame'>\n",
      "Int64Index: 129312 entries, 5578 to 43567\n",
      "Data columns (total 11 columns):\n",
      " #   Column              Non-Null Count   Dtype  \n",
      "---  ------              --------------   -----  \n",
      " 0   reviewerName        129312 non-null  object \n",
      " 1   isFrequentReviewer  129312 non-null  bool   \n",
      " 2   reviewText          124206 non-null  object \n",
      " 3   audienceScore       126812 non-null  float64\n",
      " 4   rating              93000 non-null   object \n",
      " 5   ratingContents      93000 non-null   object \n",
      " 6   runtimeMinutes      128714 non-null  float64\n",
      " 7   genre               128898 non-null  object \n",
      " 8   originalLanguage    128661 non-null  object \n",
      " 9   boxOffice           102274 non-null  float64\n",
      " 10  distributor         111959 non-null  object \n",
      "dtypes: bool(1), float64(3), object(7)\n",
      "memory usage: 11.0+ MB\n"
     ]
    }
   ],
   "source": [
    "X_train.info()"
   ]
  },
  {
   "cell_type": "code",
   "execution_count": 18,
   "id": "49895ff7",
   "metadata": {
    "execution": {
     "iopub.execute_input": "2023-08-13T16:23:10.347127Z",
     "iopub.status.busy": "2023-08-13T16:23:10.346705Z",
     "iopub.status.idle": "2023-08-13T16:23:10.352319Z",
     "shell.execute_reply": "2023-08-13T16:23:10.351259Z"
    },
    "papermill": {
     "duration": 0.030985,
     "end_time": "2023-08-13T16:23:10.354494",
     "exception": false,
     "start_time": "2023-08-13T16:23:10.323509",
     "status": "completed"
    },
    "tags": []
   },
   "outputs": [],
   "source": [
    "trf1 = ColumnTransformer([\n",
    "    ('mean', SimpleImputer(strategy = 'median'),[3,6,9]), \n",
    "    ('most', SimpleImputer(strategy = 'most_frequent'),[0,1,2,4,5,7,8,10] )\n",
    "])"
   ]
  },
  {
   "cell_type": "code",
   "execution_count": 19,
   "id": "906dc045",
   "metadata": {
    "execution": {
     "iopub.execute_input": "2023-08-13T16:23:10.400935Z",
     "iopub.status.busy": "2023-08-13T16:23:10.400257Z",
     "iopub.status.idle": "2023-08-13T16:23:11.038709Z",
     "shell.execute_reply": "2023-08-13T16:23:11.037394Z"
    },
    "papermill": {
     "duration": 0.665177,
     "end_time": "2023-08-13T16:23:11.041720",
     "exception": false,
     "start_time": "2023-08-13T16:23:10.376543",
     "status": "completed"
    },
    "tags": []
   },
   "outputs": [],
   "source": [
    "# Transforming X_train\n",
    "X_train = pd.DataFrame(trf1.fit_transform(X_train),columns = ['audienceScore','runtimeMinutes','boxOffice','reviewerName', 'isFrequentReviewer','reviewText', 'rating', 'ratingContents', 'genre', 'originalLanguage','distributor' ])\n",
    "\n",
    "# Transforming X_test\n",
    "X_test = pd.DataFrame(trf1.transform(X_test),columns = ['audienceScore','runtimeMinutes','boxOffice', 'reviewerName', 'isFrequentReviewer','reviewText', 'rating', 'ratingContents', 'genre', 'originalLanguage', 'distributor' ])\n",
    "\n",
    "# Transforming final_x_test\n",
    "final_x_test = pd.DataFrame(trf1.transform(final_x_test),columns = ['audienceScore','runtimeMinutes','boxOffice', 'reviewerName','isFrequentReviewer','reviewText', 'rating', 'ratingContents', 'genre', 'originalLanguage','distributor' ])"
   ]
  },
  {
   "cell_type": "markdown",
   "id": "3a99f283",
   "metadata": {
    "papermill": {
     "duration": 0.022206,
     "end_time": "2023-08-13T16:23:11.086047",
     "exception": false,
     "start_time": "2023-08-13T16:23:11.063841",
     "status": "completed"
    },
    "tags": []
   },
   "source": [
    "### Text Prepeocessing"
   ]
  },
  {
   "cell_type": "code",
   "execution_count": 20,
   "id": "29c94e69",
   "metadata": {
    "execution": {
     "iopub.execute_input": "2023-08-13T16:23:11.132124Z",
     "iopub.status.busy": "2023-08-13T16:23:11.131290Z",
     "iopub.status.idle": "2023-08-13T16:23:14.045446Z",
     "shell.execute_reply": "2023-08-13T16:23:14.044575Z"
    },
    "papermill": {
     "duration": 2.940325,
     "end_time": "2023-08-13T16:23:14.048136",
     "exception": false,
     "start_time": "2023-08-13T16:23:11.107811",
     "status": "completed"
    },
    "tags": []
   },
   "outputs": [],
   "source": [
    "import re\n",
    "\n",
    "# Function for removing non-alphanumeric characters and extra whitespace\n",
    "def clean_text(text):\n",
    "    text = text.lower()\n",
    "    text = re.sub(r'[^a-zA-Z\\s]', '', text)\n",
    "    text = re.sub(r'\\s+', ' ', text)\n",
    "    return text\n",
    "\n",
    "# Apply text cleaning to 'reviewText'\n",
    "X_train['reviewText'] = X_train['reviewText'].apply(clean_text)\n",
    "X_test['reviewText'] = X_test['reviewText'].apply(clean_text)\n",
    "final_x_test['reviewText'] = final_x_test['reviewText'].apply(clean_text)"
   ]
  },
  {
   "cell_type": "code",
   "execution_count": 21,
   "id": "1d8f90dd",
   "metadata": {
    "execution": {
     "iopub.execute_input": "2023-08-13T16:23:14.096123Z",
     "iopub.status.busy": "2023-08-13T16:23:14.095387Z",
     "iopub.status.idle": "2023-08-13T16:23:14.675192Z",
     "shell.execute_reply": "2023-08-13T16:23:14.674317Z"
    },
    "papermill": {
     "duration": 0.606195,
     "end_time": "2023-08-13T16:23:14.677796",
     "exception": false,
     "start_time": "2023-08-13T16:23:14.071601",
     "status": "completed"
    },
    "tags": []
   },
   "outputs": [],
   "source": [
    "# Converting genre column to list of String for applying MultiLabelBinarizer \n",
    "X_train['genre'] = X_train['genre'].apply(lambda x: x.split(', '))\n",
    "X_test['genre'] = X_test['genre'].apply(lambda x: x.split(', '))\n",
    "final_x_test['genre'] = final_x_test['genre'].apply(lambda x: x.split(', '))"
   ]
  },
  {
   "cell_type": "code",
   "execution_count": 22,
   "id": "a91020a9",
   "metadata": {
    "execution": {
     "iopub.execute_input": "2023-08-13T16:23:14.725739Z",
     "iopub.status.busy": "2023-08-13T16:23:14.725039Z",
     "iopub.status.idle": "2023-08-13T16:23:15.357111Z",
     "shell.execute_reply": "2023-08-13T16:23:15.355887Z"
    },
    "papermill": {
     "duration": 0.659052,
     "end_time": "2023-08-13T16:23:15.359841",
     "exception": false,
     "start_time": "2023-08-13T16:23:14.700789",
     "status": "completed"
    },
    "tags": []
   },
   "outputs": [],
   "source": [
    "# Converting ratingContents column to  converting into list of String for applying  MultiLabelBinarizer \n",
    "\n",
    "def convert_to_list(string_rep):\n",
    "    string_rep = string_rep.strip(\"[]\")\n",
    "    return [item.strip().strip(\"'\") for item in string_rep.split(\",\")]\n",
    "\n",
    "# Apply the function to the 'ratingContents' column\n",
    "X_train['ratingContents'] = X_train['ratingContents'].apply(convert_to_list)\n",
    "X_test['ratingContents'] = X_test['ratingContents'].apply(convert_to_list)\n",
    "final_x_test['ratingContents'] = final_x_test['ratingContents'].apply(convert_to_list)"
   ]
  },
  {
   "cell_type": "markdown",
   "id": "528fee9b",
   "metadata": {
    "papermill": {
     "duration": 0.021504,
     "end_time": "2023-08-13T16:23:15.403128",
     "exception": false,
     "start_time": "2023-08-13T16:23:15.381624",
     "status": "completed"
    },
    "tags": []
   },
   "source": [
    "## Converting Data types"
   ]
  },
  {
   "cell_type": "code",
   "execution_count": 23,
   "id": "44e52657",
   "metadata": {
    "execution": {
     "iopub.execute_input": "2023-08-13T16:23:15.448863Z",
     "iopub.status.busy": "2023-08-13T16:23:15.448430Z",
     "iopub.status.idle": "2023-08-13T16:23:15.502548Z",
     "shell.execute_reply": "2023-08-13T16:23:15.501230Z"
    },
    "papermill": {
     "duration": 0.079726,
     "end_time": "2023-08-13T16:23:15.505036",
     "exception": false,
     "start_time": "2023-08-13T16:23:15.425310",
     "status": "completed"
    },
    "tags": []
   },
   "outputs": [],
   "source": [
    "# Converting Numerical-columns back to float of X_train\n",
    "X_train['boxOffice'] = X_train['boxOffice'].astype(float)\n",
    "X_train['audienceScore'] = X_train['audienceScore'].astype(float)\n",
    "X_train['runtimeMinutes'] = X_train['runtimeMinutes'].astype(float)"
   ]
  },
  {
   "cell_type": "code",
   "execution_count": 24,
   "id": "45d80d3d",
   "metadata": {
    "execution": {
     "iopub.execute_input": "2023-08-13T16:23:15.551072Z",
     "iopub.status.busy": "2023-08-13T16:23:15.550654Z",
     "iopub.status.idle": "2023-08-13T16:23:15.570874Z",
     "shell.execute_reply": "2023-08-13T16:23:15.569299Z"
    },
    "papermill": {
     "duration": 0.046247,
     "end_time": "2023-08-13T16:23:15.573715",
     "exception": false,
     "start_time": "2023-08-13T16:23:15.527468",
     "status": "completed"
    },
    "tags": []
   },
   "outputs": [],
   "source": [
    "# Converting Numerical-columns back to float of X_test\n",
    "X_test['boxOffice'] = X_test['boxOffice'].astype(float)\n",
    "X_test['audienceScore'] = X_test['audienceScore'].astype(float)\n",
    "X_test['runtimeMinutes'] = X_test['runtimeMinutes'].astype(float)"
   ]
  },
  {
   "cell_type": "code",
   "execution_count": 25,
   "id": "fc211e9f",
   "metadata": {
    "execution": {
     "iopub.execute_input": "2023-08-13T16:23:15.621286Z",
     "iopub.status.busy": "2023-08-13T16:23:15.620699Z",
     "iopub.status.idle": "2023-08-13T16:23:15.649059Z",
     "shell.execute_reply": "2023-08-13T16:23:15.647839Z"
    },
    "papermill": {
     "duration": 0.054977,
     "end_time": "2023-08-13T16:23:15.651774",
     "exception": false,
     "start_time": "2023-08-13T16:23:15.596797",
     "status": "completed"
    },
    "tags": []
   },
   "outputs": [],
   "source": [
    "# Converting Numerical-columns back to float of final_x_test\n",
    "final_x_test['boxOffice'] = final_x_test['boxOffice'].astype(float)\n",
    "final_x_test['audienceScore'] = final_x_test['audienceScore'].astype(float)\n",
    "final_x_test['runtimeMinutes'] = final_x_test['runtimeMinutes'].astype(float)"
   ]
  },
  {
   "cell_type": "markdown",
   "id": "d0c44534",
   "metadata": {
    "papermill": {
     "duration": 0.021646,
     "end_time": "2023-08-13T16:23:15.695416",
     "exception": false,
     "start_time": "2023-08-13T16:23:15.673770",
     "status": "completed"
    },
    "tags": []
   },
   "source": [
    "# *Step 3:* Exploratory Data Analysis (EDA)"
   ]
  },
  {
   "cell_type": "markdown",
   "id": "ff25978b",
   "metadata": {
    "papermill": {
     "duration": 0.022196,
     "end_time": "2023-08-13T16:23:15.739491",
     "exception": false,
     "start_time": "2023-08-13T16:23:15.717295",
     "status": "completed"
    },
    "tags": []
   },
   "source": [
    "## Visualize the preprocessed data"
   ]
  },
  {
   "cell_type": "code",
   "execution_count": 26,
   "id": "9beae532",
   "metadata": {
    "execution": {
     "iopub.execute_input": "2023-08-13T16:23:15.785936Z",
     "iopub.status.busy": "2023-08-13T16:23:15.785504Z",
     "iopub.status.idle": "2023-08-13T16:23:16.112116Z",
     "shell.execute_reply": "2023-08-13T16:23:16.111069Z"
    },
    "papermill": {
     "duration": 0.352818,
     "end_time": "2023-08-13T16:23:16.114862",
     "exception": false,
     "start_time": "2023-08-13T16:23:15.762044",
     "status": "completed"
    },
    "tags": []
   },
   "outputs": [],
   "source": [
    "import seaborn as sns\n",
    "import matplotlib.pyplot as plt"
   ]
  },
  {
   "cell_type": "code",
   "execution_count": 27,
   "id": "b7855e6e",
   "metadata": {
    "execution": {
     "iopub.execute_input": "2023-08-13T16:23:16.163358Z",
     "iopub.status.busy": "2023-08-13T16:23:16.162945Z",
     "iopub.status.idle": "2023-08-13T16:23:16.471203Z",
     "shell.execute_reply": "2023-08-13T16:23:16.469997Z"
    },
    "papermill": {
     "duration": 0.33559,
     "end_time": "2023-08-13T16:23:16.473699",
     "exception": false,
     "start_time": "2023-08-13T16:23:16.138109",
     "status": "completed"
    },
    "tags": []
   },
   "outputs": [
    {
     "data": {
      "image/png": "[encoded data removed]",
      "text/plain": [
       "<Figure size 640x480 with 1 Axes>"
      ]
     },
     "metadata": {},
     "output_type": "display_data"
    }
   ],
   "source": [
    "# Countplot\n",
    "sns.countplot(x=y_train, palette='pastel')\n",
    "plt.title('Count Plot of Label Data')\n",
    "plt.xlabel('Label')\n",
    "plt.ylabel('Count')\n",
    "plt.show()"
   ]
  },
  {
   "cell_type": "code",
   "execution_count": 28,
   "id": "dfabf43d",
   "metadata": {
    "execution": {
     "iopub.execute_input": "2023-08-13T16:23:16.520108Z",
     "iopub.status.busy": "2023-08-13T16:23:16.519290Z",
     "iopub.status.idle": "2023-08-13T16:23:16.537891Z",
     "shell.execute_reply": "2023-08-13T16:23:16.536675Z"
    },
    "papermill": {
     "duration": 0.044354,
     "end_time": "2023-08-13T16:23:16.540225",
     "exception": false,
     "start_time": "2023-08-13T16:23:16.495871",
     "status": "completed"
    },
    "tags": []
   },
   "outputs": [
    {
     "data": {
      "text/plain": [
       "POSITIVE    66.847624\n",
       "NEGATIVE    33.152376\n",
       "Name: sentiment, dtype: float64"
      ]
     },
     "execution_count": 28,
     "metadata": {},
     "output_type": "execute_result"
    }
   ],
   "source": [
    "# Label Distribution in %\n",
    "y_train.value_counts(normalize=True) * 100"
   ]
  },
  {
   "cell_type": "markdown",
   "id": "3fc46b31",
   "metadata": {
    "papermill": {
     "duration": 0.02184,
     "end_time": "2023-08-13T16:23:16.584280",
     "exception": false,
     "start_time": "2023-08-13T16:23:16.562440",
     "status": "completed"
    },
    "tags": []
   },
   "source": [
    "* Positive labels are more then Negative"
   ]
  },
  {
   "cell_type": "code",
   "execution_count": 29,
   "id": "11081191",
   "metadata": {
    "execution": {
     "iopub.execute_input": "2023-08-13T16:23:16.631641Z",
     "iopub.status.busy": "2023-08-13T16:23:16.631244Z",
     "iopub.status.idle": "2023-08-13T16:23:17.018455Z",
     "shell.execute_reply": "2023-08-13T16:23:17.016986Z"
    },
    "papermill": {
     "duration": 0.414647,
     "end_time": "2023-08-13T16:23:17.021755",
     "exception": false,
     "start_time": "2023-08-13T16:23:16.607108",
     "status": "completed"
    },
    "tags": []
   },
   "outputs": [
    {
     "data": {
      "text/plain": [
       "Text(0, 0.5, 'Count')"
      ]
     },
     "execution_count": 29,
     "metadata": {},
     "output_type": "execute_result"
    },
    {
     "data": {
      "image/png": "[encoded data removed]",
      "text/plain": [
       "<Figure size 640x480 with 1 Axes>"
      ]
     },
     "metadata": {},
     "output_type": "display_data"
    }
   ],
   "source": [
    "# Distribution of audienceScore Data\n",
    "X_train.audienceScore.hist()\n",
    "plt.title('Distribution of audienceScore Data')\n",
    "plt.xlabel('audienceScore')\n",
    "plt.ylabel('Count')"
   ]
  },
  {
   "cell_type": "markdown",
   "id": "b771113c",
   "metadata": {
    "papermill": {
     "duration": 0.024565,
     "end_time": "2023-08-13T16:23:17.069289",
     "exception": false,
     "start_time": "2023-08-13T16:23:17.044724",
     "status": "completed"
    },
    "tags": []
   },
   "source": [
    "* audienceScore range from 0 to 100\n",
    "* Left skewed distribution"
   ]
  },
  {
   "cell_type": "code",
   "execution_count": 30,
   "id": "adec6a6f",
   "metadata": {
    "execution": {
     "iopub.execute_input": "2023-08-13T16:23:17.116929Z",
     "iopub.status.busy": "2023-08-13T16:23:17.116253Z",
     "iopub.status.idle": "2023-08-13T16:23:17.679286Z",
     "shell.execute_reply": "2023-08-13T16:23:17.678005Z"
    },
    "papermill": {
     "duration": 0.58957,
     "end_time": "2023-08-13T16:23:17.681628",
     "exception": false,
     "start_time": "2023-08-13T16:23:17.092058",
     "status": "completed"
    },
    "tags": []
   },
   "outputs": [
    {
     "data": {
      "text/plain": [
       "Text(0, 0.5, 'Count')"
      ]
     },
     "execution_count": 30,
     "metadata": {},
     "output_type": "execute_result"
    },
    {
     "data": {
      "image/png": "[encoded data removed]",
      "text/plain": [
       "<Figure size 640x480 with 1 Axes>"
      ]
     },
     "metadata": {},
     "output_type": "display_data"
    }
   ],
   "source": [
    "# Distribution of runtimeMinutes Data\n",
    "X_train['runtimeMinutes'].hist()\n",
    "plt.title('Distribution of runtimeMinutes Data')\n",
    "plt.xlabel('runtimeMinutes')\n",
    "plt.ylabel('Count')"
   ]
  },
  {
   "cell_type": "markdown",
   "id": "dacb7d9c",
   "metadata": {
    "papermill": {
     "duration": 0.023255,
     "end_time": "2023-08-13T16:23:17.727957",
     "exception": false,
     "start_time": "2023-08-13T16:23:17.704702",
     "status": "completed"
    },
    "tags": []
   },
   "source": [
    "* runtimeMinutes range from 0 to 500 \n",
    "* But majority of data belong between 50 and 180"
   ]
  },
  {
   "cell_type": "code",
   "execution_count": 31,
   "id": "219c14a7",
   "metadata": {
    "execution": {
     "iopub.execute_input": "2023-08-13T16:23:17.776782Z",
     "iopub.status.busy": "2023-08-13T16:23:17.776130Z",
     "iopub.status.idle": "2023-08-13T16:23:18.082320Z",
     "shell.execute_reply": "2023-08-13T16:23:18.081169Z"
    },
    "papermill": {
     "duration": 0.333467,
     "end_time": "2023-08-13T16:23:18.084689",
     "exception": false,
     "start_time": "2023-08-13T16:23:17.751222",
     "status": "completed"
    },
    "tags": []
   },
   "outputs": [
    {
     "data": {
      "text/plain": [
       "Text(0, 0.5, 'Count')"
      ]
     },
     "execution_count": 31,
     "metadata": {},
     "output_type": "execute_result"
    },
    {
     "data": {
      "image/png": "[encoded data removed]",
      "text/plain": [
       "<Figure size 640x480 with 1 Axes>"
      ]
     },
     "metadata": {},
     "output_type": "display_data"
    }
   ],
   "source": [
    "# Distribution of boxOffice Data\n",
    "X_train['boxOffice'].hist()\n",
    "plt.title('Distribution of boxOffice Data')\n",
    "plt.xlabel('boxOffice')\n",
    "plt.ylabel('Count')"
   ]
  },
  {
   "cell_type": "markdown",
   "id": "34a1a40f",
   "metadata": {
    "papermill": {
     "duration": 0.023335,
     "end_time": "2023-08-13T16:23:18.131609",
     "exception": false,
     "start_time": "2023-08-13T16:23:18.108274",
     "status": "completed"
    },
    "tags": []
   },
   "source": [
    "* boxOffice range from 0 to 800000\n",
    "* follow exponential distribution"
   ]
  },
  {
   "cell_type": "markdown",
   "id": "cdeca901",
   "metadata": {
    "papermill": {
     "duration": 0.02339,
     "end_time": "2023-08-13T16:23:18.178600",
     "exception": false,
     "start_time": "2023-08-13T16:23:18.155210",
     "status": "completed"
    },
    "tags": []
   },
   "source": [
    "### Few observations based on these plots:\n",
    "* Features are at different scales.\n",
    "* Features have different distributions"
   ]
  },
  {
   "cell_type": "markdown",
   "id": "bbabce13",
   "metadata": {
    "papermill": {
     "duration": 0.023284,
     "end_time": "2023-08-13T16:23:18.225527",
     "exception": false,
     "start_time": "2023-08-13T16:23:18.202243",
     "status": "completed"
    },
    "tags": []
   },
   "source": [
    "## Looking Mathematically"
   ]
  },
  {
   "cell_type": "code",
   "execution_count": 32,
   "id": "8ec1c0eb",
   "metadata": {
    "execution": {
     "iopub.execute_input": "2023-08-13T16:23:18.275056Z",
     "iopub.status.busy": "2023-08-13T16:23:18.274395Z",
     "iopub.status.idle": "2023-08-13T16:23:18.328135Z",
     "shell.execute_reply": "2023-08-13T16:23:18.327010Z"
    },
    "papermill": {
     "duration": 0.081399,
     "end_time": "2023-08-13T16:23:18.330525",
     "exception": false,
     "start_time": "2023-08-13T16:23:18.249126",
     "status": "completed"
    },
    "tags": []
   },
   "outputs": [
    {
     "data": {
      "text/html": [
       "<div>\n",
       "<style scoped>\n",
       "    .dataframe tbody tr th:only-of-type {\n",
       "        vertical-align: middle;\n",
       "    }\n",
       "\n",
       "    .dataframe tbody tr th {\n",
       "        vertical-align: top;\n",
       "    }\n",
       "\n",
       "    .dataframe thead th {\n",
       "        text-align: right;\n",
       "    }\n",
       "</style>\n",
       "<table border=\"1\" class=\"dataframe\">\n",
       "  <thead>\n",
       "    <tr style=\"text-align: right;\">\n",
       "      <th></th>\n",
       "      <th>audienceScore</th>\n",
       "      <th>runtimeMinutes</th>\n",
       "      <th>boxOffice</th>\n",
       "    </tr>\n",
       "  </thead>\n",
       "  <tbody>\n",
       "    <tr>\n",
       "      <th>count</th>\n",
       "      <td>129312.000000</td>\n",
       "      <td>129312.000000</td>\n",
       "      <td>129312.000000</td>\n",
       "    </tr>\n",
       "    <tr>\n",
       "      <th>mean</th>\n",
       "      <td>65.728935</td>\n",
       "      <td>108.504972</td>\n",
       "      <td>43114.023506</td>\n",
       "    </tr>\n",
       "    <tr>\n",
       "      <th>std</th>\n",
       "      <td>19.135219</td>\n",
       "      <td>20.860155</td>\n",
       "      <td>80707.998237</td>\n",
       "    </tr>\n",
       "    <tr>\n",
       "      <th>min</th>\n",
       "      <td>0.000000</td>\n",
       "      <td>4.000000</td>\n",
       "      <td>0.000000</td>\n",
       "    </tr>\n",
       "    <tr>\n",
       "      <th>25%</th>\n",
       "      <td>52.000000</td>\n",
       "      <td>95.000000</td>\n",
       "      <td>2600.000000</td>\n",
       "    </tr>\n",
       "    <tr>\n",
       "      <th>50%</th>\n",
       "      <td>69.000000</td>\n",
       "      <td>105.000000</td>\n",
       "      <td>15900.000000</td>\n",
       "    </tr>\n",
       "    <tr>\n",
       "      <th>75%</th>\n",
       "      <td>82.000000</td>\n",
       "      <td>119.000000</td>\n",
       "      <td>43100.000000</td>\n",
       "    </tr>\n",
       "    <tr>\n",
       "      <th>max</th>\n",
       "      <td>100.000000</td>\n",
       "      <td>561.000000</td>\n",
       "      <td>858400.000000</td>\n",
       "    </tr>\n",
       "  </tbody>\n",
       "</table>\n",
       "</div>"
      ],
      "text/plain": [
       "       audienceScore  runtimeMinutes      boxOffice\n",
       "count  129312.000000   129312.000000  129312.000000\n",
       "mean       65.728935      108.504972   43114.023506\n",
       "std        19.135219       20.860155   80707.998237\n",
       "min         0.000000        4.000000       0.000000\n",
       "25%        52.000000       95.000000    2600.000000\n",
       "50%        69.000000      105.000000   15900.000000\n",
       "75%        82.000000      119.000000   43100.000000\n",
       "max       100.000000      561.000000  858400.000000"
      ]
     },
     "execution_count": 32,
     "metadata": {},
     "output_type": "execute_result"
    }
   ],
   "source": [
    "X_train.describe()"
   ]
  },
  {
   "cell_type": "markdown",
   "id": "fe26024d",
   "metadata": {
    "papermill": {
     "duration": 0.023724,
     "end_time": "2023-08-13T16:23:18.378413",
     "exception": false,
     "start_time": "2023-08-13T16:23:18.354689",
     "status": "completed"
    },
    "tags": []
   },
   "source": [
    "## Correlation between columns"
   ]
  },
  {
   "cell_type": "code",
   "execution_count": 33,
   "id": "e4b3483b",
   "metadata": {
    "execution": {
     "iopub.execute_input": "2023-08-13T16:23:18.429990Z",
     "iopub.status.busy": "2023-08-13T16:23:18.429540Z",
     "iopub.status.idle": "2023-08-13T16:23:18.774649Z",
     "shell.execute_reply": "2023-08-13T16:23:18.773579Z"
    },
    "papermill": {
     "duration": 0.373586,
     "end_time": "2023-08-13T16:23:18.777156",
     "exception": false,
     "start_time": "2023-08-13T16:23:18.403570",
     "status": "completed"
    },
    "tags": []
   },
   "outputs": [
    {
     "data": {
      "text/plain": [
       "<Axes: >"
      ]
     },
     "execution_count": 33,
     "metadata": {},
     "output_type": "execute_result"
    },
    {
     "data": {
      "image/png": "[encoded data removed]",
      "text/plain": [
       "<Figure size 640x480 with 2 Axes>"
      ]
     },
     "metadata": {},
     "output_type": "display_data"
    }
   ],
   "source": [
    "corr_matrix = X_train.corr(numeric_only =True)\n",
    "sns.heatmap(corr_matrix, annot=True)"
   ]
  },
  {
   "cell_type": "markdown",
   "id": "75f5ba0c",
   "metadata": {
    "papermill": {
     "duration": 0.024416,
     "end_time": "2023-08-13T16:23:18.827140",
     "exception": false,
     "start_time": "2023-08-13T16:23:18.802724",
     "status": "completed"
    },
    "tags": []
   },
   "source": [
    "* boxoffice & runtimeMinutes have positive correlation"
   ]
  },
  {
   "cell_type": "markdown",
   "id": "b0726177",
   "metadata": {
    "papermill": {
     "duration": 0.026818,
     "end_time": "2023-08-13T16:23:18.878615",
     "exception": false,
     "start_time": "2023-08-13T16:23:18.851797",
     "status": "completed"
    },
    "tags": []
   },
   "source": [
    "## Checking for Outliers"
   ]
  },
  {
   "cell_type": "code",
   "execution_count": 34,
   "id": "23a90e3a",
   "metadata": {
    "execution": {
     "iopub.execute_input": "2023-08-13T16:23:18.931261Z",
     "iopub.status.busy": "2023-08-13T16:23:18.930788Z",
     "iopub.status.idle": "2023-08-13T16:23:19.168822Z",
     "shell.execute_reply": "2023-08-13T16:23:19.167674Z"
    },
    "papermill": {
     "duration": 0.266993,
     "end_time": "2023-08-13T16:23:19.171309",
     "exception": false,
     "start_time": "2023-08-13T16:23:18.904316",
     "status": "completed"
    },
    "tags": []
   },
   "outputs": [
    {
     "data": {
      "image/png": "[encoded data removed]",
      "text/plain": [
       "<Figure size 1000x600 with 1 Axes>"
      ]
     },
     "metadata": {},
     "output_type": "display_data"
    }
   ],
   "source": [
    "# Create a box plot for runtimeMinutes\n",
    "plt.figure(figsize=(10, 6))\n",
    "sns.boxplot(X_train['runtimeMinutes'])\n",
    "plt.title(\"Box Plot of the runtimeMinutes\")\n",
    "plt.show()"
   ]
  },
  {
   "cell_type": "code",
   "execution_count": 35,
   "id": "72b46b8f",
   "metadata": {
    "execution": {
     "iopub.execute_input": "2023-08-13T16:23:19.224147Z",
     "iopub.status.busy": "2023-08-13T16:23:19.223182Z",
     "iopub.status.idle": "2023-08-13T16:23:19.251602Z",
     "shell.execute_reply": "2023-08-13T16:23:19.250412Z"
    },
    "papermill": {
     "duration": 0.057151,
     "end_time": "2023-08-13T16:23:19.254167",
     "exception": false,
     "start_time": "2023-08-13T16:23:19.197016",
     "status": "completed"
    },
    "tags": []
   },
   "outputs": [
    {
     "name": "stdout",
     "output_type": "stream",
     "text": [
      "Percentage of Outliers: 3.10%\n"
     ]
    }
   ],
   "source": [
    "# Calculating percentage of data belongs to outliers, based on the box plot\n",
    "q1 = X_train['runtimeMinutes'].quantile(0.25)\n",
    "q3 = X_train['runtimeMinutes'].quantile(0.75)\n",
    "iqr = q3 - q1\n",
    "\n",
    "lower_threshold = q1 - 1.5 * iqr\n",
    "upper_threshold = q3 + 1.5 * iqr\n",
    "\n",
    "outliers = (X_train['runtimeMinutes'] < lower_threshold) | (X_train['runtimeMinutes'] > upper_threshold)\n",
    "percentage_outliers = (sum(outliers) / len(outliers)) * 100\n",
    "\n",
    "# Display the results\n",
    "print(f\"Percentage of Outliers: {percentage_outliers:.2f}%\")"
   ]
  },
  {
   "cell_type": "markdown",
   "id": "a46935b3",
   "metadata": {
    "papermill": {
     "duration": 0.024487,
     "end_time": "2023-08-13T16:23:19.303303",
     "exception": false,
     "start_time": "2023-08-13T16:23:19.278816",
     "status": "completed"
    },
    "tags": []
   },
   "source": [
    "* Percentage of Outliers is small so it can be ignored"
   ]
  },
  {
   "cell_type": "code",
   "execution_count": 36,
   "id": "e59e6963",
   "metadata": {
    "execution": {
     "iopub.execute_input": "2023-08-13T16:23:19.355218Z",
     "iopub.status.busy": "2023-08-13T16:23:19.354830Z",
     "iopub.status.idle": "2023-08-13T16:23:19.565100Z",
     "shell.execute_reply": "2023-08-13T16:23:19.563958Z"
    },
    "papermill": {
     "duration": 0.239597,
     "end_time": "2023-08-13T16:23:19.567826",
     "exception": false,
     "start_time": "2023-08-13T16:23:19.328229",
     "status": "completed"
    },
    "tags": []
   },
   "outputs": [
    {
     "data": {
      "image/png": "[encoded data removed]",
      "text/plain": [
       "<Figure size 640x480 with 1 Axes>"
      ]
     },
     "metadata": {},
     "output_type": "display_data"
    }
   ],
   "source": [
    "# Creating box plot for audienceScore\n",
    "sns.boxplot(data=X_train['audienceScore'])\n",
    "plt.title(\"Box Plot of the audienceScore\")\n",
    "plt.show()"
   ]
  },
  {
   "cell_type": "code",
   "execution_count": 37,
   "id": "304dc15f",
   "metadata": {
    "execution": {
     "iopub.execute_input": "2023-08-13T16:23:19.621922Z",
     "iopub.status.busy": "2023-08-13T16:23:19.621459Z",
     "iopub.status.idle": "2023-08-13T16:23:19.650424Z",
     "shell.execute_reply": "2023-08-13T16:23:19.648940Z"
    },
    "papermill": {
     "duration": 0.059304,
     "end_time": "2023-08-13T16:23:19.652900",
     "exception": false,
     "start_time": "2023-08-13T16:23:19.593596",
     "status": "completed"
    },
    "tags": []
   },
   "outputs": [
    {
     "name": "stdout",
     "output_type": "stream",
     "text": [
      "Percentage of Outliers: 0.03%\n"
     ]
    }
   ],
   "source": [
    "# Calculating percentage of data belongs to outliers based on the box plot\n",
    "q1 = X_train['audienceScore'].quantile(0.25)\n",
    "q3 = X_train['audienceScore'].quantile(0.75)\n",
    "iqr = q3 - q1\n",
    "\n",
    "lower_threshold = q1 - 1.5 * iqr\n",
    "upper_threshold = q3 + 1.5 * iqr\n",
    "\n",
    "outliers = (X_train['audienceScore'] < lower_threshold) | (X_train['audienceScore'] > upper_threshold)\n",
    "percentage_outliers = (sum(outliers) / len(outliers)) * 100\n",
    "# Display the results\n",
    "print(f\"Percentage of Outliers: {percentage_outliers:.2f}%\")"
   ]
  },
  {
   "cell_type": "markdown",
   "id": "8cda34c3",
   "metadata": {
    "papermill": {
     "duration": 0.02623,
     "end_time": "2023-08-13T16:23:19.704606",
     "exception": false,
     "start_time": "2023-08-13T16:23:19.678376",
     "status": "completed"
    },
    "tags": []
   },
   "source": [
    "* Percentage of Outliers is small so it can be ignored"
   ]
  },
  {
   "cell_type": "code",
   "execution_count": 38,
   "id": "de5a3b67",
   "metadata": {
    "execution": {
     "iopub.execute_input": "2023-08-13T16:23:19.759629Z",
     "iopub.status.busy": "2023-08-13T16:23:19.758547Z",
     "iopub.status.idle": "2023-08-13T16:23:19.999806Z",
     "shell.execute_reply": "2023-08-13T16:23:19.990989Z"
    },
    "papermill": {
     "duration": 0.274966,
     "end_time": "2023-08-13T16:23:20.005785",
     "exception": false,
     "start_time": "2023-08-13T16:23:19.730819",
     "status": "completed"
    },
    "tags": []
   },
   "outputs": [
    {
     "data": {
      "image/png": "[encoded data removed]",
      "text/plain": [
       "<Figure size 640x480 with 1 Axes>"
      ]
     },
     "metadata": {},
     "output_type": "display_data"
    }
   ],
   "source": [
    "# Creating box plot for boxOffice\n",
    "sns.boxplot(data=X_train['boxOffice'])\n",
    "plt.title(\"Box Plot of the DataFrame\")\n",
    "plt.show()"
   ]
  },
  {
   "cell_type": "code",
   "execution_count": 39,
   "id": "2e9b31cc",
   "metadata": {
    "execution": {
     "iopub.execute_input": "2023-08-13T16:23:20.059929Z",
     "iopub.status.busy": "2023-08-13T16:23:20.059105Z",
     "iopub.status.idle": "2023-08-13T16:23:20.088010Z",
     "shell.execute_reply": "2023-08-13T16:23:20.086706Z"
    },
    "papermill": {
     "duration": 0.058381,
     "end_time": "2023-08-13T16:23:20.090522",
     "exception": false,
     "start_time": "2023-08-13T16:23:20.032141",
     "status": "completed"
    },
    "tags": []
   },
   "outputs": [
    {
     "name": "stdout",
     "output_type": "stream",
     "text": [
      "Percentage of Outliers: 11.37%\n"
     ]
    }
   ],
   "source": [
    "# Calculating percentage of data belongs to outliers based on the box plot\n",
    "q1 = X_train['boxOffice'].quantile(0.25)\n",
    "q3 = X_train['boxOffice'].quantile(0.75)\n",
    "iqr = q3 - q1\n",
    "\n",
    "lower_threshold = q1 - 1.5 * iqr\n",
    "upper_threshold = q3 + 1.5 * iqr\n",
    "\n",
    "outliers = (X_train['boxOffice'] < lower_threshold) | (X_train['boxOffice'] > upper_threshold)\n",
    "percentage_outliers = (sum(outliers) / len(outliers)) * 100\n",
    "# Display the results\n",
    "print(f\"Percentage of Outliers: {percentage_outliers:.2f}%\")"
   ]
  },
  {
   "cell_type": "markdown",
   "id": "61552ca3",
   "metadata": {
    "papermill": {
     "duration": 0.025969,
     "end_time": "2023-08-13T16:23:20.142470",
     "exception": false,
     "start_time": "2023-08-13T16:23:20.116501",
     "status": "completed"
    },
    "tags": []
   },
   "source": [
    "* Percentage of Outliers is large so it should be handle"
   ]
  },
  {
   "cell_type": "markdown",
   "id": "3de36252",
   "metadata": {
    "papermill": {
     "duration": 0.025737,
     "end_time": "2023-08-13T16:23:20.194376",
     "exception": false,
     "start_time": "2023-08-13T16:23:20.168639",
     "status": "completed"
    },
    "tags": []
   },
   "source": [
    "### Dealing with outliears"
   ]
  },
  {
   "cell_type": "code",
   "execution_count": 40,
   "id": "4145bd80",
   "metadata": {
    "execution": {
     "iopub.execute_input": "2023-08-13T16:23:20.248023Z",
     "iopub.status.busy": "2023-08-13T16:23:20.247584Z",
     "iopub.status.idle": "2023-08-13T16:23:20.260782Z",
     "shell.execute_reply": "2023-08-13T16:23:20.259868Z"
    },
    "papermill": {
     "duration": 0.042946,
     "end_time": "2023-08-13T16:23:20.263320",
     "exception": false,
     "start_time": "2023-08-13T16:23:20.220374",
     "status": "completed"
    },
    "tags": []
   },
   "outputs": [],
   "source": [
    "# Capping values outside the specified range with the corresponding bound.\n",
    "\n",
    "X_train['boxOffice'] =X_train['boxOffice'].clip(lower = lower_threshold,upper = upper_threshold)\n",
    "X_test['boxOffice'] =X_test['boxOffice'].clip(lower = lower_threshold,upper = upper_threshold)\n",
    "final_x_test['boxOffice'] =final_x_test['boxOffice'].clip(lower = lower_threshold,upper = upper_threshold)"
   ]
  },
  {
   "cell_type": "code",
   "execution_count": 41,
   "id": "f36fad99",
   "metadata": {
    "execution": {
     "iopub.execute_input": "2023-08-13T16:23:20.317140Z",
     "iopub.status.busy": "2023-08-13T16:23:20.316682Z",
     "iopub.status.idle": "2023-08-13T16:23:20.528395Z",
     "shell.execute_reply": "2023-08-13T16:23:20.527110Z"
    },
    "papermill": {
     "duration": 0.241976,
     "end_time": "2023-08-13T16:23:20.531213",
     "exception": false,
     "start_time": "2023-08-13T16:23:20.289237",
     "status": "completed"
    },
    "tags": []
   },
   "outputs": [
    {
     "data": {
      "text/plain": [
       "<Axes: >"
      ]
     },
     "execution_count": 41,
     "metadata": {},
     "output_type": "execute_result"
    },
    {
     "data": {
      "image/png": "[encoded data removed]",
      "text/plain": [
       "<Figure size 640x480 with 1 Axes>"
      ]
     },
     "metadata": {},
     "output_type": "display_data"
    }
   ],
   "source": [
    "sns.boxplot(data=X_train['boxOffice'])"
   ]
  },
  {
   "cell_type": "markdown",
   "id": "fb4cf1f3",
   "metadata": {
    "papermill": {
     "duration": 0.026315,
     "end_time": "2023-08-13T16:23:20.584029",
     "exception": false,
     "start_time": "2023-08-13T16:23:20.557714",
     "status": "completed"
    },
    "tags": []
   },
   "source": [
    "# *Step:4* : Feature Engineering"
   ]
  },
  {
   "cell_type": "markdown",
   "id": "71453d65",
   "metadata": {
    "papermill": {
     "duration": 0.026281,
     "end_time": "2023-08-13T16:23:20.636607",
     "exception": false,
     "start_time": "2023-08-13T16:23:20.610326",
     "status": "completed"
    },
    "tags": []
   },
   "source": [
    "##  *(a) Feature Scaling* & *(b)  Encoding Categorical Features* "
   ]
  },
  {
   "cell_type": "code",
   "execution_count": 42,
   "id": "a646eda9",
   "metadata": {
    "execution": {
     "iopub.execute_input": "2023-08-13T16:23:20.691817Z",
     "iopub.status.busy": "2023-08-13T16:23:20.691386Z",
     "iopub.status.idle": "2023-08-13T16:23:20.696701Z",
     "shell.execute_reply": "2023-08-13T16:23:20.695578Z"
    },
    "papermill": {
     "duration": 0.035311,
     "end_time": "2023-08-13T16:23:20.699010",
     "exception": false,
     "start_time": "2023-08-13T16:23:20.663699",
     "status": "completed"
    },
    "tags": []
   },
   "outputs": [],
   "source": [
    "from sklearn.preprocessing import OrdinalEncoder\n",
    "from sklearn.preprocessing import MultiLabelBinarizer"
   ]
  },
  {
   "cell_type": "code",
   "execution_count": 43,
   "id": "fa23536d",
   "metadata": {
    "execution": {
     "iopub.execute_input": "2023-08-13T16:23:20.752833Z",
     "iopub.status.busy": "2023-08-13T16:23:20.752405Z",
     "iopub.status.idle": "2023-08-13T16:23:20.929582Z",
     "shell.execute_reply": "2023-08-13T16:23:20.928412Z"
    },
    "papermill": {
     "duration": 0.207117,
     "end_time": "2023-08-13T16:23:20.932072",
     "exception": false,
     "start_time": "2023-08-13T16:23:20.724955",
     "status": "completed"
    },
    "tags": []
   },
   "outputs": [
    {
     "name": "stdout",
     "output_type": "stream",
     "text": [
      "<class 'pandas.core.frame.DataFrame'>\n",
      "RangeIndex: 129312 entries, 0 to 129311\n",
      "Data columns (total 11 columns):\n",
      " #   Column              Non-Null Count   Dtype  \n",
      "---  ------              --------------   -----  \n",
      " 0   audienceScore       129312 non-null  float64\n",
      " 1   runtimeMinutes      129312 non-null  float64\n",
      " 2   boxOffice           129312 non-null  float64\n",
      " 3   reviewerName        129312 non-null  object \n",
      " 4   isFrequentReviewer  129312 non-null  object \n",
      " 5   reviewText          129312 non-null  object \n",
      " 6   rating              129312 non-null  object \n",
      " 7   ratingContents      129312 non-null  object \n",
      " 8   genre               129312 non-null  object \n",
      " 9   originalLanguage    129312 non-null  object \n",
      " 10  distributor         129312 non-null  object \n",
      "dtypes: float64(3), object(8)\n",
      "memory usage: 10.9+ MB\n"
     ]
    }
   ],
   "source": [
    "X_train.info()"
   ]
  },
  {
   "cell_type": "code",
   "execution_count": 44,
   "id": "6f30656e",
   "metadata": {
    "execution": {
     "iopub.execute_input": "2023-08-13T16:23:20.986466Z",
     "iopub.status.busy": "2023-08-13T16:23:20.985969Z",
     "iopub.status.idle": "2023-08-13T16:23:21.023665Z",
     "shell.execute_reply": "2023-08-13T16:23:21.022378Z"
    },
    "papermill": {
     "duration": 0.068024,
     "end_time": "2023-08-13T16:23:21.026466",
     "exception": false,
     "start_time": "2023-08-13T16:23:20.958442",
     "status": "completed"
    },
    "tags": []
   },
   "outputs": [],
   "source": [
    "# dropping reviewText column\n",
    "X_train_w = X_train.drop(['reviewText'], axis = 1)\n",
    "X_test_w = X_test.drop(['reviewText'], axis = 1)\n",
    "final_x_test_w = final_x_test.drop(['reviewText'], axis = 1)"
   ]
  },
  {
   "cell_type": "markdown",
   "id": "fcf5a709",
   "metadata": {
    "papermill": {
     "duration": 0.026163,
     "end_time": "2023-08-13T16:23:21.078898",
     "exception": false,
     "start_time": "2023-08-13T16:23:21.052735",
     "status": "completed"
    },
    "tags": []
   },
   "source": [
    "### Encoding genre and ratingContents column using MultiLabelBinarizer"
   ]
  },
  {
   "cell_type": "code",
   "execution_count": 45,
   "id": "d04f7fe3",
   "metadata": {
    "execution": {
     "iopub.execute_input": "2023-08-13T16:23:21.133840Z",
     "iopub.status.busy": "2023-08-13T16:23:21.133442Z",
     "iopub.status.idle": "2023-08-13T16:23:21.474897Z",
     "shell.execute_reply": "2023-08-13T16:23:21.473640Z"
    },
    "papermill": {
     "duration": 0.373027,
     "end_time": "2023-08-13T16:23:21.478315",
     "exception": false,
     "start_time": "2023-08-13T16:23:21.105288",
     "status": "completed"
    },
    "tags": []
   },
   "outputs": [
    {
     "name": "stderr",
     "output_type": "stream",
     "text": [
      "/opt/conda/lib/python3.10/site-packages/sklearn/preprocessing/_label.py:895: UserWarning: unknown class(es) ['Gay & lesbian', 'News'] will be ignored\n",
      "  warnings.warn(\n"
     ]
    }
   ],
   "source": [
    "# Apply MultiLabelBinarizer to genre separately\n",
    "mlb = MultiLabelBinarizer()\n",
    "multi_label_X_train_w1 = mlb.fit_transform(X_train_w['genre'])\n",
    "multi_label_X_test_w1 = mlb.transform(X_test_w['genre'])\n",
    "multi_label_final_x_test_w1 = mlb.transform(final_x_test_w['genre'])\n",
    "\n",
    "# Convert the transformed genre to a DataFrame for concatenation\n",
    "multi_label_X_train_w1 = pd.DataFrame(multi_label_X_train_w1, columns=mlb.classes_)\n",
    "multi_label_X_test_w1 = pd.DataFrame(multi_label_X_test_w1, columns=mlb.classes_)\n",
    "multi_label_final_x_test_w1 = pd.DataFrame(multi_label_final_x_test_w1, columns=mlb.classes_)\n",
    "\n",
    "# Droping the genre column from the DataFrame\n",
    "X_train_w.drop(columns=['genre'], inplace=True)\n",
    "X_test_w.drop(columns=['genre'], inplace=True)\n",
    "final_x_test_w.drop(columns=['genre'], inplace=True)"
   ]
  },
  {
   "cell_type": "code",
   "execution_count": 46,
   "id": "9d7a0585",
   "metadata": {
    "execution": {
     "iopub.execute_input": "2023-08-13T16:23:21.537702Z",
     "iopub.status.busy": "2023-08-13T16:23:21.537265Z",
     "iopub.status.idle": "2023-08-13T16:23:22.880063Z",
     "shell.execute_reply": "2023-08-13T16:23:22.878812Z"
    },
    "papermill": {
     "duration": 1.377247,
     "end_time": "2023-08-13T16:23:22.882843",
     "exception": false,
     "start_time": "2023-08-13T16:23:21.505596",
     "status": "completed"
    },
    "tags": []
   },
   "outputs": [
    {
     "name": "stderr",
     "output_type": "stream",
     "text": [
      "/opt/conda/lib/python3.10/site-packages/sklearn/preprocessing/_label.py:895: UserWarning: unknown class(es) ['Brief Violence/Bloody Images', 'Disturbing Gory Violence', 'Disturbing Rape Content', 'Elements of Theme', 'Horror Violence and Language', 'Pervasive Violence', 'Some Racial Tension/Violence', 'Some Violent Sequences'] will be ignored\n",
      "  warnings.warn(\n",
      "/opt/conda/lib/python3.10/site-packages/sklearn/preprocessing/_label.py:895: UserWarning: unknown class(es) ['Brief Violence/Bloody Images', 'Disturbing Gory Violence', 'Disturbing Rape Content', 'Elements of Theme', 'Horror Violence and Language', 'Pervasive Smoking', 'Pervasive Violence', 'Some Racial Tension/Violence', 'Some Teen Marijuana Use', 'Some Violent Sequences'] will be ignored\n",
      "  warnings.warn(\n"
     ]
    }
   ],
   "source": [
    "# Apply MultiLabelBinarizer to the ratingContents column separately\n",
    "mlb = MultiLabelBinarizer()\n",
    "multi_label_X_train_w2 = mlb.fit_transform(X_train_w['ratingContents'])\n",
    "multi_label_X_test_w2 = mlb.transform(X_test_w['ratingContents'])\n",
    "multi_label_final_x_test_w2 = mlb.transform(final_x_test_w['ratingContents'])\n",
    "\n",
    "# Convert the transformed genre to a DataFrame for concatenation\n",
    "multi_label_X_train_w2 = pd.DataFrame(multi_label_X_train_w2, columns=mlb.classes_)\n",
    "multi_label_X_test_w2 = pd.DataFrame(multi_label_X_test_w2, columns=mlb.classes_)\n",
    "multi_label_final_x_test_w2 = pd.DataFrame(multi_label_final_x_test_w2, columns=mlb.classes_)\n",
    "\n",
    "# Droping the ratingContents column from the DataFrame\n",
    "X_train_w.drop(columns=['ratingContents'], inplace=True)\n",
    "X_test_w.drop(columns=['ratingContents'], inplace=True)\n",
    "final_x_test_w.drop(columns=['ratingContents'], inplace=True)"
   ]
  },
  {
   "cell_type": "code",
   "execution_count": 47,
   "id": "6d53e751",
   "metadata": {
    "execution": {
     "iopub.execute_input": "2023-08-13T16:23:22.937266Z",
     "iopub.status.busy": "2023-08-13T16:23:22.936829Z",
     "iopub.status.idle": "2023-08-13T16:23:23.043176Z",
     "shell.execute_reply": "2023-08-13T16:23:23.041619Z"
    },
    "papermill": {
     "duration": 0.136692,
     "end_time": "2023-08-13T16:23:23.045820",
     "exception": false,
     "start_time": "2023-08-13T16:23:22.909128",
     "status": "completed"
    },
    "tags": []
   },
   "outputs": [
    {
     "name": "stdout",
     "output_type": "stream",
     "text": [
      "<class 'pandas.core.frame.DataFrame'>\n",
      "RangeIndex: 129312 entries, 0 to 129311\n",
      "Data columns (total 8 columns):\n",
      " #   Column              Non-Null Count   Dtype  \n",
      "---  ------              --------------   -----  \n",
      " 0   audienceScore       129312 non-null  float64\n",
      " 1   runtimeMinutes      129312 non-null  float64\n",
      " 2   boxOffice           129312 non-null  float64\n",
      " 3   reviewerName        129312 non-null  object \n",
      " 4   isFrequentReviewer  129312 non-null  object \n",
      " 5   rating              129312 non-null  object \n",
      " 6   originalLanguage    129312 non-null  object \n",
      " 7   distributor         129312 non-null  object \n",
      "dtypes: float64(3), object(5)\n",
      "memory usage: 7.9+ MB\n"
     ]
    }
   ],
   "source": [
    "X_train_w.info()"
   ]
  },
  {
   "cell_type": "markdown",
   "id": "531e5a3a",
   "metadata": {
    "papermill": {
     "duration": 0.026126,
     "end_time": "2023-08-13T16:23:23.098595",
     "exception": false,
     "start_time": "2023-08-13T16:23:23.072469",
     "status": "completed"
    },
    "tags": []
   },
   "source": [
    "### Encoding reviewText Column using TfidfVectorizer\n"
   ]
  },
  {
   "cell_type": "code",
   "execution_count": 48,
   "id": "5fa8f09d",
   "metadata": {
    "execution": {
     "iopub.execute_input": "2023-08-13T16:23:23.152969Z",
     "iopub.status.busy": "2023-08-13T16:23:23.152527Z",
     "iopub.status.idle": "2023-08-13T16:23:23.245028Z",
     "shell.execute_reply": "2023-08-13T16:23:23.243734Z"
    },
    "papermill": {
     "duration": 0.122885,
     "end_time": "2023-08-13T16:23:23.247734",
     "exception": false,
     "start_time": "2023-08-13T16:23:23.124849",
     "status": "completed"
    },
    "tags": []
   },
   "outputs": [],
   "source": [
    "# Storing text column into text_train dataFrame\n",
    "text_train = X_train[['reviewText']]\n",
    "text_test = X_test[['reviewText']]\n",
    "final_text_test = final_x_test[['reviewText']]"
   ]
  },
  {
   "cell_type": "code",
   "execution_count": 49,
   "id": "c79d7cf0",
   "metadata": {
    "execution": {
     "iopub.execute_input": "2023-08-13T16:23:23.303244Z",
     "iopub.status.busy": "2023-08-13T16:23:23.302823Z",
     "iopub.status.idle": "2023-08-13T16:23:28.269169Z",
     "shell.execute_reply": "2023-08-13T16:23:28.268290Z"
    },
    "papermill": {
     "duration": 4.997243,
     "end_time": "2023-08-13T16:23:28.271366",
     "exception": false,
     "start_time": "2023-08-13T16:23:23.274123",
     "status": "completed"
    },
    "tags": []
   },
   "outputs": [
    {
     "data": {
      "text/plain": [
       "(55315, 79379)"
      ]
     },
     "execution_count": 49,
     "metadata": {},
     "output_type": "execute_result"
    }
   ],
   "source": [
    "from sklearn.feature_extraction.text import TfidfVectorizer\n",
    "\n",
    "vectorizer = TfidfVectorizer(stop_words='english') \n",
    "\n",
    "# fiting and transforming\n",
    "X_train_vectorized = vectorizer.fit_transform(text_train['reviewText'])\n",
    "X_test_vectorized = vectorizer.transform(text_test['reviewText'])\n",
    "final_x_test_vectorized = vectorizer.transform(final_text_test['reviewText'])\n",
    "final_x_test_vectorized.shape"
   ]
  },
  {
   "cell_type": "markdown",
   "id": "22ff0f6f",
   "metadata": {
    "papermill": {
     "duration": 0.025998,
     "end_time": "2023-08-13T16:23:28.324035",
     "exception": false,
     "start_time": "2023-08-13T16:23:28.298037",
     "status": "completed"
    },
    "tags": []
   },
   "source": [
    "### Scaling and Encoding remaining column using MinMaxScaler and OneHotEncoder respectively"
   ]
  },
  {
   "cell_type": "code",
   "execution_count": 50,
   "id": "9d8fe1ff",
   "metadata": {
    "execution": {
     "iopub.execute_input": "2023-08-13T16:23:28.379374Z",
     "iopub.status.busy": "2023-08-13T16:23:28.378517Z",
     "iopub.status.idle": "2023-08-13T16:23:28.384864Z",
     "shell.execute_reply": "2023-08-13T16:23:28.383694Z"
    },
    "papermill": {
     "duration": 0.036634,
     "end_time": "2023-08-13T16:23:28.387151",
     "exception": false,
     "start_time": "2023-08-13T16:23:28.350517",
     "status": "completed"
    },
    "tags": []
   },
   "outputs": [],
   "source": [
    "# Creating  ColumnTransformer\n",
    "trf2 = ColumnTransformer([\n",
    "    ('scal', MinMaxScaler(),[0,1,2]),\n",
    "    ('ohe',OneHotEncoder(handle_unknown = 'ignore'), [3,4,6,7] ),\n",
    "    ('ord', OrdinalEncoder(), [5])\n",
    "])"
   ]
  },
  {
   "cell_type": "code",
   "execution_count": 51,
   "id": "fa610666",
   "metadata": {
    "execution": {
     "iopub.execute_input": "2023-08-13T16:23:28.442738Z",
     "iopub.status.busy": "2023-08-13T16:23:28.442340Z",
     "iopub.status.idle": "2023-08-13T16:23:29.000884Z",
     "shell.execute_reply": "2023-08-13T16:23:28.999790Z"
    },
    "papermill": {
     "duration": 0.589388,
     "end_time": "2023-08-13T16:23:29.003564",
     "exception": false,
     "start_time": "2023-08-13T16:23:28.414176",
     "status": "completed"
    },
    "tags": []
   },
   "outputs": [],
   "source": [
    "# Transforming data\n",
    "X_train_w = trf2.fit_transform(X_train_w)\n",
    "X_test_w = trf2.transform(X_test_w)\n",
    "final_x_test_w = trf2.transform(final_x_test_w)"
   ]
  },
  {
   "cell_type": "markdown",
   "id": "977c99aa",
   "metadata": {
    "papermill": {
     "duration": 0.026144,
     "end_time": "2023-08-13T16:23:29.056157",
     "exception": false,
     "start_time": "2023-08-13T16:23:29.030013",
     "status": "completed"
    },
    "tags": []
   },
   "source": [
    "# Connecting all Transformed Columns in one dataFrame"
   ]
  },
  {
   "cell_type": "code",
   "execution_count": 52,
   "id": "2f09095d",
   "metadata": {
    "execution": {
     "iopub.execute_input": "2023-08-13T16:23:29.111246Z",
     "iopub.status.busy": "2023-08-13T16:23:29.110796Z",
     "iopub.status.idle": "2023-08-13T16:23:41.321763Z",
     "shell.execute_reply": "2023-08-13T16:23:41.320858Z"
    },
    "papermill": {
     "duration": 12.241697,
     "end_time": "2023-08-13T16:23:41.324292",
     "exception": false,
     "start_time": "2023-08-13T16:23:29.082595",
     "status": "completed"
    },
    "tags": []
   },
   "outputs": [],
   "source": [
    "# New\n",
    "from scipy.sparse import csr_matrix, vstack, hstack\n",
    "train_data= hstack([X_train_w,X_train_vectorized,multi_label_X_train_w1,multi_label_X_train_w2 ] )\n",
    "test_data = hstack([X_test_w,X_test_vectorized, multi_label_X_test_w1,multi_label_X_test_w2 ] )\n",
    "final_test_data = hstack([final_x_test_w,final_x_test_vectorized , multi_label_final_x_test_w1,multi_label_final_x_test_w2] )"
   ]
  },
  {
   "cell_type": "code",
   "execution_count": 53,
   "id": "39be97a1",
   "metadata": {
    "execution": {
     "iopub.execute_input": "2023-08-13T16:23:41.381942Z",
     "iopub.status.busy": "2023-08-13T16:23:41.380857Z",
     "iopub.status.idle": "2023-08-13T16:23:41.387139Z",
     "shell.execute_reply": "2023-08-13T16:23:41.386085Z"
    },
    "papermill": {
     "duration": 0.037666,
     "end_time": "2023-08-13T16:23:41.389338",
     "exception": false,
     "start_time": "2023-08-13T16:23:41.351672",
     "status": "completed"
    },
    "tags": []
   },
   "outputs": [
    {
     "data": {
      "text/plain": [
       "(129312, 87193)"
      ]
     },
     "execution_count": 53,
     "metadata": {},
     "output_type": "execute_result"
    }
   ],
   "source": [
    "train_data.shape"
   ]
  },
  {
   "cell_type": "markdown",
   "id": "eab82e15",
   "metadata": {
    "papermill": {
     "duration": 0.027192,
     "end_time": "2023-08-13T16:23:41.443735",
     "exception": false,
     "start_time": "2023-08-13T16:23:41.416543",
     "status": "completed"
    },
    "tags": []
   },
   "source": [
    "### Encoding Target Label"
   ]
  },
  {
   "cell_type": "code",
   "execution_count": 54,
   "id": "903d6203",
   "metadata": {
    "execution": {
     "iopub.execute_input": "2023-08-13T16:23:41.501380Z",
     "iopub.status.busy": "2023-08-13T16:23:41.500486Z",
     "iopub.status.idle": "2023-08-13T16:23:41.545977Z",
     "shell.execute_reply": "2023-08-13T16:23:41.545102Z"
    },
    "papermill": {
     "duration": 0.077481,
     "end_time": "2023-08-13T16:23:41.548436",
     "exception": false,
     "start_time": "2023-08-13T16:23:41.470955",
     "status": "completed"
    },
    "tags": []
   },
   "outputs": [],
   "source": [
    "lb = LabelEncoder()\n",
    "y_train = lb.fit_transform(y_train)\n",
    "y_test = lb.transform(y_test)"
   ]
  },
  {
   "cell_type": "markdown",
   "id": "57b72854",
   "metadata": {
    "papermill": {
     "duration": 0.026527,
     "end_time": "2023-08-13T16:23:41.602686",
     "exception": false,
     "start_time": "2023-08-13T16:23:41.576159",
     "status": "completed"
    },
    "tags": []
   },
   "source": [
    "## Feature Selection using Chi2"
   ]
  },
  {
   "cell_type": "code",
   "execution_count": 55,
   "id": "eb9f2b4f",
   "metadata": {
    "execution": {
     "iopub.execute_input": "2023-08-13T16:23:41.659157Z",
     "iopub.status.busy": "2023-08-13T16:23:41.658377Z",
     "iopub.status.idle": "2023-08-13T16:23:45.803604Z",
     "shell.execute_reply": "2023-08-13T16:23:45.802484Z"
    },
    "papermill": {
     "duration": 4.177127,
     "end_time": "2023-08-13T16:23:45.806444",
     "exception": false,
     "start_time": "2023-08-13T16:23:41.629317",
     "status": "completed"
    },
    "tags": []
   },
   "outputs": [],
   "source": [
    "# Converting sparse matrix  to DataFrame\n",
    "df1 = pd.DataFrame.sparse.from_spmatrix(train_data)\n",
    "df2 = pd.DataFrame.sparse.from_spmatrix(test_data)\n",
    "df3 = pd.DataFrame.sparse.from_spmatrix(final_test_data)"
   ]
  },
  {
   "cell_type": "code",
   "execution_count": 56,
   "id": "6613be7e",
   "metadata": {
    "execution": {
     "iopub.execute_input": "2023-08-13T16:23:45.862302Z",
     "iopub.status.busy": "2023-08-13T16:23:45.861842Z",
     "iopub.status.idle": "2023-08-13T16:23:53.470326Z",
     "shell.execute_reply": "2023-08-13T16:23:53.469114Z"
    },
    "papermill": {
     "duration": 7.639721,
     "end_time": "2023-08-13T16:23:53.472999",
     "exception": false,
     "start_time": "2023-08-13T16:23:45.833278",
     "status": "completed"
    },
    "tags": []
   },
   "outputs": [
    {
     "name": "stdout",
     "output_type": "stream",
     "text": [
      "Selected Features:\n",
      "10500\n"
     ]
    }
   ],
   "source": [
    "from sklearn.feature_selection import SelectKBest, chi2\n",
    "\n",
    "# Initialize SelectKBest with chi-squared test as the score function\n",
    "kbest_selector = SelectKBest(score_func=chi2, k=10500)\n",
    "\n",
    "kbest_selector.fit(df1, y_train)\n",
    "\n",
    "# Get the selected feature indices\n",
    "selected_feature_indices = kbest_selector.get_support(indices=True)\n",
    "\n",
    "# Get the names of the selected features\n",
    "selected_features = df1.columns[selected_feature_indices]\n",
    "\n",
    "print(\"Selected Features:\")\n",
    "print(len(selected_feature_indices))"
   ]
  },
  {
   "cell_type": "code",
   "execution_count": 57,
   "id": "4586ccdd",
   "metadata": {
    "execution": {
     "iopub.execute_input": "2023-08-13T16:23:53.529033Z",
     "iopub.status.busy": "2023-08-13T16:23:53.528581Z",
     "iopub.status.idle": "2023-08-13T16:23:53.729838Z",
     "shell.execute_reply": "2023-08-13T16:23:53.728549Z"
    },
    "papermill": {
     "duration": 0.233144,
     "end_time": "2023-08-13T16:23:53.732831",
     "exception": false,
     "start_time": "2023-08-13T16:23:53.499687",
     "status": "completed"
    },
    "tags": []
   },
   "outputs": [],
   "source": [
    "# Selecting bestfeatures from original DataFrame\n",
    "train_data = df1[selected_feature_indices]\n",
    "test_data = df2[selected_feature_indices]\n",
    "final_test_data = df3[selected_feature_indices]"
   ]
  },
  {
   "cell_type": "code",
   "execution_count": 58,
   "id": "f5dd055c",
   "metadata": {
    "execution": {
     "iopub.execute_input": "2023-08-13T16:23:53.790565Z",
     "iopub.status.busy": "2023-08-13T16:23:53.789420Z",
     "iopub.status.idle": "2023-08-13T16:23:53.796892Z",
     "shell.execute_reply": "2023-08-13T16:23:53.795795Z"
    },
    "papermill": {
     "duration": 0.038396,
     "end_time": "2023-08-13T16:23:53.799280",
     "exception": false,
     "start_time": "2023-08-13T16:23:53.760884",
     "status": "completed"
    },
    "tags": []
   },
   "outputs": [
    {
     "data": {
      "text/plain": [
       "(129312, 10500)"
      ]
     },
     "execution_count": 58,
     "metadata": {},
     "output_type": "execute_result"
    }
   ],
   "source": [
    "train_data.shape"
   ]
  },
  {
   "cell_type": "markdown",
   "id": "a2f4da8f",
   "metadata": {
    "papermill": {
     "duration": 0.026645,
     "end_time": "2023-08-13T16:23:53.855788",
     "exception": false,
     "start_time": "2023-08-13T16:23:53.829143",
     "status": "completed"
    },
    "tags": []
   },
   "source": [
    "# *Step 5:* Model Selection and Training"
   ]
  },
  {
   "cell_type": "code",
   "execution_count": 59,
   "id": "2255dd17",
   "metadata": {
    "execution": {
     "iopub.execute_input": "2023-08-13T16:23:53.913628Z",
     "iopub.status.busy": "2023-08-13T16:23:53.913224Z",
     "iopub.status.idle": "2023-08-13T16:23:53.918716Z",
     "shell.execute_reply": "2023-08-13T16:23:53.917725Z"
    },
    "papermill": {
     "duration": 0.037443,
     "end_time": "2023-08-13T16:23:53.921119",
     "exception": false,
     "start_time": "2023-08-13T16:23:53.883676",
     "status": "completed"
    },
    "tags": []
   },
   "outputs": [],
   "source": [
    "from sklearn.svm import LinearSVC\n",
    "from sklearn.linear_model import LogisticRegression, SGDClassifier\n",
    "from sklearn.metrics import accuracy_score, classification_report, f1_score, confusion_matrix"
   ]
  },
  {
   "cell_type": "code",
   "execution_count": 60,
   "id": "85fd2bb7",
   "metadata": {
    "execution": {
     "iopub.execute_input": "2023-08-13T16:23:53.977224Z",
     "iopub.status.busy": "2023-08-13T16:23:53.976071Z",
     "iopub.status.idle": "2023-08-13T16:24:49.624388Z",
     "shell.execute_reply": "2023-08-13T16:24:49.623174Z"
    },
    "papermill": {
     "duration": 55.679153,
     "end_time": "2023-08-13T16:24:49.627042",
     "exception": false,
     "start_time": "2023-08-13T16:23:53.947889",
     "status": "completed"
    },
    "tags": []
   },
   "outputs": [
    {
     "name": "stderr",
     "output_type": "stream",
     "text": [
      "/opt/conda/lib/python3.10/site-packages/sklearn/linear_model/_logistic.py:458: ConvergenceWarning: lbfgs failed to converge (status=1):\n",
      "STOP: TOTAL NO. of ITERATIONS REACHED LIMIT.\n",
      "\n",
      "Increase the number of iterations (max_iter) or scale the data as shown in:\n",
      "    https://scikit-learn.org/stable/modules/preprocessing.html\n",
      "Please also refer to the documentation for alternative solver options:\n",
      "    https://scikit-learn.org/stable/modules/linear_model.html#logistic-regression\n",
      "  n_iter_i = _check_optimize_result(\n"
     ]
    },
    {
     "name": "stdout",
     "output_type": "stream",
     "text": [
      "Model: LogisticRegression\n",
      "Training Score: 0.83\n",
      "Testing Score: 0.81\n",
      "(Best Model)\n",
      "==============================\n",
      "Model: SGDClassifier\n",
      "Training Score: 0.81\n",
      "Testing Score: 0.79\n",
      "==============================\n",
      "Model: LinearSVC\n",
      "Training Score: 0.86\n",
      "Testing Score: 0.82\n",
      "(Best Model)\n",
      "==============================\n",
      "Best Model:\n",
      "LinearSVC()\n"
     ]
    }
   ],
   "source": [
    "# Training Models\n",
    "models = [\n",
    "    LogisticRegression(),\n",
    "    SGDClassifier(alpha=0.0001, random_state=42),\n",
    "    LinearSVC()\n",
    "]\n",
    "\n",
    "best_accuracy = 0\n",
    "best_model = None\n",
    "\n",
    "for model in models:\n",
    "    model.fit(train_data, y_train)\n",
    "    y_pred = model.predict(test_data)\n",
    "    \n",
    "    accuracy = accuracy_score(y_test, y_pred)\n",
    "    \n",
    "    print(f\"Model: {model.__class__.__name__}\")\n",
    "    print(f\"Training Score: {model.score(train_data, y_train):.2f}\")\n",
    "    print(f\"Testing Score: {accuracy:.2f}\")\n",
    "    \n",
    "    if accuracy > best_accuracy:\n",
    "        best_accuracy = accuracy\n",
    "        best_model = model\n",
    "        print(\"(Best Model)\")\n",
    "    \n",
    "    print(\"=\"*30)\n",
    "\n",
    "print(\"Best Model:\")\n",
    "print(best_model)"
   ]
  },
  {
   "cell_type": "markdown",
   "id": "8d505aed",
   "metadata": {
    "papermill": {
     "duration": 0.026979,
     "end_time": "2023-08-13T16:24:49.681581",
     "exception": false,
     "start_time": "2023-08-13T16:24:49.654602",
     "status": "completed"
    },
    "tags": []
   },
   "source": [
    "### From above observation\n",
    "* LogisticRegression :- Simple model\n",
    "* SGDClassifier and LinearSVC are overfited"
   ]
  },
  {
   "cell_type": "code",
   "execution_count": 61,
   "id": "2540cf03",
   "metadata": {
    "execution": {
     "iopub.execute_input": "2023-08-13T16:24:49.738582Z",
     "iopub.status.busy": "2023-08-13T16:24:49.738160Z",
     "iopub.status.idle": "2023-08-13T16:24:49.742970Z",
     "shell.execute_reply": "2023-08-13T16:24:49.741769Z"
    },
    "papermill": {
     "duration": 0.036461,
     "end_time": "2023-08-13T16:24:49.745234",
     "exception": false,
     "start_time": "2023-08-13T16:24:49.708773",
     "status": "completed"
    },
    "tags": []
   },
   "outputs": [],
   "source": [
    "# Storing Best Model in model\n",
    "model = best_model"
   ]
  },
  {
   "cell_type": "markdown",
   "id": "78fc7dd4",
   "metadata": {
    "papermill": {
     "duration": 0.027594,
     "end_time": "2023-08-13T16:24:49.801110",
     "exception": false,
     "start_time": "2023-08-13T16:24:49.773516",
     "status": "completed"
    },
    "tags": []
   },
   "source": [
    "# *Step 6:* Model Evaluation"
   ]
  },
  {
   "cell_type": "code",
   "execution_count": 62,
   "id": "97d8bd94",
   "metadata": {
    "execution": {
     "iopub.execute_input": "2023-08-13T16:24:49.858796Z",
     "iopub.status.busy": "2023-08-13T16:24:49.857822Z",
     "iopub.status.idle": "2023-08-13T16:24:50.384955Z",
     "shell.execute_reply": "2023-08-13T16:24:50.383440Z"
    },
    "papermill": {
     "duration": 0.558815,
     "end_time": "2023-08-13T16:24:50.387781",
     "exception": false,
     "start_time": "2023-08-13T16:24:49.828966",
     "status": "completed"
    },
    "tags": []
   },
   "outputs": [
    {
     "data": {
      "text/plain": [
       "0.8632841499628805"
      ]
     },
     "execution_count": 62,
     "metadata": {},
     "output_type": "execute_result"
    }
   ],
   "source": [
    "# Train data f1_micro Score\n",
    "y_pred_tr = model.predict(train_data)\n",
    "f1_micro = f1_score(y_train, y_pred_tr, average='micro')\n",
    "f1_micro"
   ]
  },
  {
   "cell_type": "code",
   "execution_count": 63,
   "id": "4eab3d13",
   "metadata": {
    "execution": {
     "iopub.execute_input": "2023-08-13T16:24:50.445980Z",
     "iopub.status.busy": "2023-08-13T16:24:50.445124Z",
     "iopub.status.idle": "2023-08-13T16:24:50.468106Z",
     "shell.execute_reply": "2023-08-13T16:24:50.466843Z"
    },
    "papermill": {
     "duration": 0.055059,
     "end_time": "2023-08-13T16:24:50.470713",
     "exception": false,
     "start_time": "2023-08-13T16:24:50.415654",
     "status": "completed"
    },
    "tags": []
   },
   "outputs": [
    {
     "data": {
      "text/plain": [
       "0.819382578569661"
      ]
     },
     "execution_count": 63,
     "metadata": {},
     "output_type": "execute_result"
    }
   ],
   "source": [
    "# Test data f1_micro Score\n",
    "from sklearn.metrics import f1_score\n",
    "f1_micro = f1_score(y_test, y_pred, average='micro')\n",
    "f1_micro"
   ]
  },
  {
   "cell_type": "code",
   "execution_count": 64,
   "id": "344cef80",
   "metadata": {
    "execution": {
     "iopub.execute_input": "2023-08-13T16:24:50.528878Z",
     "iopub.status.busy": "2023-08-13T16:24:50.528445Z",
     "iopub.status.idle": "2023-08-13T16:24:51.152650Z",
     "shell.execute_reply": "2023-08-13T16:24:51.151403Z"
    },
    "papermill": {
     "duration": 0.656394,
     "end_time": "2023-08-13T16:24:51.155046",
     "exception": false,
     "start_time": "2023-08-13T16:24:50.498652",
     "status": "completed"
    },
    "tags": []
   },
   "outputs": [
    {
     "data": {
      "image/png": "[encoded data removed]",
      "text/plain": [
       "<Figure size 800x600 with 2 Axes>"
      ]
     },
     "metadata": {},
     "output_type": "display_data"
    }
   ],
   "source": [
    "# Make predictions using the best model\n",
    "best_y_pred = model.predict(test_data)\n",
    "\n",
    "# Calculate the confusion matrix\n",
    "conf_matrix = confusion_matrix(y_test, best_y_pred)\n",
    "\n",
    "# Plot the heatmap\n",
    "plt.figure(figsize=(8, 6))\n",
    "sns.heatmap(conf_matrix, annot=True, fmt=\"d\", cmap=\"Blues\",xticklabels=best_model.classes_, yticklabels=best_model.classes_)\n",
    "plt.xlabel(\"Predicted Labels\")\n",
    "plt.ylabel(\"True Labels\")\n",
    "plt.title(\"Confusion Matrix\")\n",
    "plt.show()"
   ]
  },
  {
   "cell_type": "markdown",
   "id": "a4fb05b8",
   "metadata": {
    "papermill": {
     "duration": 0.027471,
     "end_time": "2023-08-13T16:24:51.210499",
     "exception": false,
     "start_time": "2023-08-13T16:24:51.183028",
     "status": "completed"
    },
    "tags": []
   },
   "source": [
    "* True postive is 19337 \n",
    "* True Negative is 7152"
   ]
  },
  {
   "cell_type": "code",
   "execution_count": 65,
   "id": "37ee8c68",
   "metadata": {
    "execution": {
     "iopub.execute_input": "2023-08-13T16:24:51.268302Z",
     "iopub.status.busy": "2023-08-13T16:24:51.267812Z",
     "iopub.status.idle": "2023-08-13T16:24:51.338028Z",
     "shell.execute_reply": "2023-08-13T16:24:51.336942Z"
    },
    "papermill": {
     "duration": 0.102455,
     "end_time": "2023-08-13T16:24:51.340838",
     "exception": false,
     "start_time": "2023-08-13T16:24:51.238383",
     "status": "completed"
    },
    "tags": []
   },
   "outputs": [
    {
     "name": "stdout",
     "output_type": "stream",
     "text": [
      "Classification Report:\n",
      "              precision    recall  f1-score   support\n",
      "\n",
      "           0       0.76      0.66      0.71     10756\n",
      "           1       0.84      0.90      0.87     21572\n",
      "\n",
      "    accuracy                           0.82     32328\n",
      "   macro avg       0.80      0.78      0.79     32328\n",
      "weighted avg       0.82      0.82      0.82     32328\n",
      "\n"
     ]
    }
   ],
   "source": [
    "# Print classification report (includes precision, recall, F1-score, etc.)\n",
    "print(\"Classification Report:\")\n",
    "print(classification_report(y_test, best_y_pred))"
   ]
  },
  {
   "cell_type": "markdown",
   "id": "230882b8",
   "metadata": {
    "papermill": {
     "duration": 0.027764,
     "end_time": "2023-08-13T16:24:51.396720",
     "exception": false,
     "start_time": "2023-08-13T16:24:51.368956",
     "status": "completed"
    },
    "tags": []
   },
   "source": [
    "# *Step 6:* Hyperparameter tuning using RandomizedSearchCV"
   ]
  },
  {
   "cell_type": "code",
   "execution_count": 66,
   "id": "3129e964",
   "metadata": {
    "execution": {
     "iopub.execute_input": "2023-08-13T16:24:51.454532Z",
     "iopub.status.busy": "2023-08-13T16:24:51.454098Z",
     "iopub.status.idle": "2023-08-13T16:24:51.458812Z",
     "shell.execute_reply": "2023-08-13T16:24:51.457734Z"
    },
    "papermill": {
     "duration": 0.036139,
     "end_time": "2023-08-13T16:24:51.460976",
     "exception": false,
     "start_time": "2023-08-13T16:24:51.424837",
     "status": "completed"
    },
    "tags": []
   },
   "outputs": [],
   "source": [
    "from sklearn.model_selection import RandomizedSearchCV\n",
    "from sklearn.pipeline import Pipeline"
   ]
  },
  {
   "cell_type": "code",
   "execution_count": 67,
   "id": "540393ca",
   "metadata": {
    "execution": {
     "iopub.execute_input": "2023-08-13T16:24:51.519861Z",
     "iopub.status.busy": "2023-08-13T16:24:51.518518Z",
     "iopub.status.idle": "2023-08-13T16:53:39.668617Z",
     "shell.execute_reply": "2023-08-13T16:53:39.667293Z"
    },
    "papermill": {
     "duration": 1728.211454,
     "end_time": "2023-08-13T16:53:39.700427",
     "exception": false,
     "start_time": "2023-08-13T16:24:51.488973",
     "status": "completed"
    },
    "tags": []
   },
   "outputs": [
    {
     "name": "stdout",
     "output_type": "stream",
     "text": [
      "Fitting 5 folds for each of 6 candidates, totalling 30 fits\n"
     ]
    },
    {
     "name": "stderr",
     "output_type": "stream",
     "text": [
      "/opt/conda/lib/python3.10/site-packages/sklearn/model_selection/_search.py:305: UserWarning: The total space of parameters 6 is smaller than n_iter=10. Running 6 iterations. For exhaustive searches, use GridSearchCV.\n",
      "  warnings.warn(\n"
     ]
    },
    {
     "name": "stdout",
     "output_type": "stream",
     "text": [
      "Logistic Regression - Best Parameters: {'model__solver': 'newton-cg', 'model__C': 10}\n",
      "Logistic Regression - Accuracy on Test Set: 0.8189\n",
      "--------------------------------------------------\n",
      "Fitting 5 folds for each of 3 candidates, totalling 15 fits\n"
     ]
    },
    {
     "name": "stderr",
     "output_type": "stream",
     "text": [
      "/opt/conda/lib/python3.10/site-packages/sklearn/model_selection/_search.py:305: UserWarning: The total space of parameters 3 is smaller than n_iter=10. Running 3 iterations. For exhaustive searches, use GridSearchCV.\n",
      "  warnings.warn(\n"
     ]
    },
    {
     "name": "stdout",
     "output_type": "stream",
     "text": [
      "SGD Classifier - Best Parameters: {'model__alpha': 0.0001}\n",
      "SGD Classifier - Accuracy on Test Set: 0.7893\n",
      "--------------------------------------------------\n",
      "Fitting 5 folds for each of 6 candidates, totalling 30 fits\n"
     ]
    },
    {
     "name": "stderr",
     "output_type": "stream",
     "text": [
      "/opt/conda/lib/python3.10/site-packages/sklearn/model_selection/_search.py:305: UserWarning: The total space of parameters 6 is smaller than n_iter=10. Running 6 iterations. For exhaustive searches, use GridSearchCV.\n",
      "  warnings.warn(\n",
      "/opt/conda/lib/python3.10/site-packages/sklearn/svm/_base.py:1244: ConvergenceWarning: Liblinear failed to converge, increase the number of iterations.\n",
      "  warnings.warn(\n",
      "/opt/conda/lib/python3.10/site-packages/sklearn/model_selection/_validation.py:378: FitFailedWarning: \n",
      "15 fits failed out of a total of 30.\n",
      "The score on these train-test partitions for these parameters will be set to nan.\n",
      "If these failures are not expected, you can try to debug them by setting error_score='raise'.\n",
      "\n",
      "Below are more details about the failures:\n",
      "--------------------------------------------------------------------------------\n",
      "15 fits failed with the following error:\n",
      "Traceback (most recent call last):\n",
      "  File \"/opt/conda/lib/python3.10/site-packages/sklearn/model_selection/_validation.py\", line 686, in _fit_and_score\n",
      "    estimator.fit(X_train, y_train, **fit_params)\n",
      "  File \"/opt/conda/lib/python3.10/site-packages/sklearn/pipeline.py\", line 405, in fit\n",
      "    self._final_estimator.fit(Xt, y, **fit_params_last_step)\n",
      "  File \"/opt/conda/lib/python3.10/site-packages/sklearn/svm/_classes.py\", line 274, in fit\n",
      "    self.coef_, self.intercept_, n_iter_ = _fit_liblinear(\n",
      "  File \"/opt/conda/lib/python3.10/site-packages/sklearn/svm/_base.py\", line 1223, in _fit_liblinear\n",
      "    solver_type = _get_liblinear_solver_type(multi_class, penalty, loss, dual)\n",
      "  File \"/opt/conda/lib/python3.10/site-packages/sklearn/svm/_base.py\", line 1062, in _get_liblinear_solver_type\n",
      "    raise ValueError(\n",
      "ValueError: Unsupported set of arguments: The combination of penalty='l1' and loss='squared_hinge' are not supported when dual=True, Parameters: penalty='l1', loss='squared_hinge', dual=True\n",
      "\n",
      "  warnings.warn(some_fits_failed_message, FitFailedWarning)\n",
      "/opt/conda/lib/python3.10/site-packages/sklearn/model_selection/_search.py:952: UserWarning: One or more of the test scores are non-finite: [       nan 0.78520941        nan 0.82101429        nan 0.83111389]\n",
      "  warnings.warn(\n"
     ]
    },
    {
     "name": "stdout",
     "output_type": "stream",
     "text": [
      "Linear SVC - Best Parameters: {'model__penalty': 'l2', 'model__C': 1}\n",
      "Linear SVC - Accuracy on Test Set: 0.8194\n",
      "--------------------------------------------------\n"
     ]
    }
   ],
   "source": [
    "models = [\n",
    "    {\n",
    "        'name': 'Logistic Regression',\n",
    "        'model': LogisticRegression(),\n",
    "        'param_dist': {\n",
    "            'model__C': [0.1, 1, 10],  \n",
    "            'model__solver': ['newton-cg', 'liblinear'],\n",
    "        }\n",
    "    },\n",
    "    {\n",
    "        'name': 'SGD Classifier',\n",
    "        'model': SGDClassifier(),\n",
    "        'param_dist': {\n",
    "            'model__alpha': [0.0001, 0.001, 0.01], \n",
    "        }\n",
    "    },\n",
    "    {\n",
    "        'name': 'Linear SVC',\n",
    "        'model': LinearSVC(),\n",
    "        'param_dist': {\n",
    "            'model__C': [0.01, 0.1, 1], \n",
    "            'model__penalty': ['l1', 'l2'],\n",
    "        }\n",
    "    },\n",
    "]\n",
    "\n",
    "\n",
    "\n",
    "for model_info in models:\n",
    "    name = model_info['name']\n",
    "    model = model_info['model']\n",
    "    param_dist = model_info['param_dist']\n",
    "\n",
    "    # Creating a pipeline\n",
    "    pipe = Pipeline([\n",
    "        ('model', model)\n",
    "    ])\n",
    "\n",
    "    # Perform randomized search with cross-validation\n",
    "    randome_search = RandomizedSearchCV(pipe, param_distributions=param_dist,\n",
    "                                           n_iter=10, cv=5, n_jobs=-1, random_state=42, verbose=2)\n",
    "    randome_search.fit(train_data, y_train)\n",
    "\n",
    "    # Get the best parameters and the corresponding model\n",
    "    best_params = randome_search.best_params_\n",
    "    best_model = randome_search.best_estimator_\n",
    "\n",
    "    # Evaluate the model on the testing set\n",
    "    y_pred = best_model.predict(test_data)\n",
    "    accuracy = accuracy_score(y_test, y_pred)\n",
    "\n",
    "    # Print the results\n",
    "    print(f\"{name} - Best Parameters: {best_params}\")\n",
    "    print(f\"{name} - Accuracy on Test Set: {accuracy:.4f}\")\n",
    "    print('-' * 50)"
   ]
  },
  {
   "cell_type": "markdown",
   "id": "e490e3c8",
   "metadata": {
    "papermill": {
     "duration": 0.028364,
     "end_time": "2023-08-13T16:53:39.758056",
     "exception": false,
     "start_time": "2023-08-13T16:53:39.729692",
     "status": "completed"
    },
    "tags": []
   },
   "source": [
    "### Choosing best model with best parameters"
   ]
  },
  {
   "cell_type": "code",
   "execution_count": 68,
   "id": "bb037ffd",
   "metadata": {
    "execution": {
     "iopub.execute_input": "2023-08-13T16:53:39.818158Z",
     "iopub.status.busy": "2023-08-13T16:53:39.817672Z",
     "iopub.status.idle": "2023-08-13T16:53:39.823144Z",
     "shell.execute_reply": "2023-08-13T16:53:39.821926Z"
    },
    "papermill": {
     "duration": 0.038554,
     "end_time": "2023-08-13T16:53:39.825236",
     "exception": false,
     "start_time": "2023-08-13T16:53:39.786682",
     "status": "completed"
    },
    "tags": []
   },
   "outputs": [],
   "source": [
    "best_model = best_model.named_steps['model']"
   ]
  },
  {
   "cell_type": "code",
   "execution_count": 69,
   "id": "e796b2f6",
   "metadata": {
    "execution": {
     "iopub.execute_input": "2023-08-13T16:53:39.886896Z",
     "iopub.status.busy": "2023-08-13T16:53:39.886180Z",
     "iopub.status.idle": "2023-08-13T16:53:40.415560Z",
     "shell.execute_reply": "2023-08-13T16:53:40.414327Z"
    },
    "papermill": {
     "duration": 0.563436,
     "end_time": "2023-08-13T16:53:40.418023",
     "exception": false,
     "start_time": "2023-08-13T16:53:39.854587",
     "status": "completed"
    },
    "tags": []
   },
   "outputs": [
    {
     "name": "stdout",
     "output_type": "stream",
     "text": [
      "Train Score: 0.8632841499628805\n"
     ]
    }
   ],
   "source": [
    "# Train data Score\n",
    "y_pred_tr = best_model.predict(train_data)\n",
    "f1_micro = f1_score(y_train, y_pred_tr, average='micro')\n",
    "print('Train Score:',f1_micro)"
   ]
  },
  {
   "cell_type": "markdown",
   "id": "f7f73142",
   "metadata": {
    "papermill": {
     "duration": 0.029512,
     "end_time": "2023-08-13T16:53:40.476693",
     "exception": false,
     "start_time": "2023-08-13T16:53:40.447181",
     "status": "completed"
    },
    "tags": []
   },
   "source": [
    "#### This Model is Overfitting"
   ]
  },
  {
   "cell_type": "markdown",
   "id": "152cce2e",
   "metadata": {
    "papermill": {
     "duration": 0.028955,
     "end_time": "2023-08-13T16:53:40.534745",
     "exception": false,
     "start_time": "2023-08-13T16:53:40.505790",
     "status": "completed"
    },
    "tags": []
   },
   "source": [
    "### Submission"
   ]
  },
  {
   "cell_type": "code",
   "execution_count": 70,
   "id": "ef38238a",
   "metadata": {
    "execution": {
     "iopub.execute_input": "2023-08-13T16:53:40.595141Z",
     "iopub.status.busy": "2023-08-13T16:53:40.594688Z",
     "iopub.status.idle": "2023-08-13T16:53:41.281765Z",
     "shell.execute_reply": "2023-08-13T16:53:41.280439Z"
    },
    "papermill": {
     "duration": 0.720783,
     "end_time": "2023-08-13T16:53:41.284424",
     "exception": false,
     "start_time": "2023-08-13T16:53:40.563641",
     "status": "completed"
    },
    "tags": []
   },
   "outputs": [],
   "source": [
    "final_y_pred = best_model.predict(final_test_data)"
   ]
  },
  {
   "cell_type": "code",
   "execution_count": 71,
   "id": "b2e56797",
   "metadata": {
    "execution": {
     "iopub.execute_input": "2023-08-13T16:53:41.345013Z",
     "iopub.status.busy": "2023-08-13T16:53:41.344532Z",
     "iopub.status.idle": "2023-08-13T16:53:41.354636Z",
     "shell.execute_reply": "2023-08-13T16:53:41.353250Z"
    },
    "papermill": {
     "duration": 0.043458,
     "end_time": "2023-08-13T16:53:41.357235",
     "exception": false,
     "start_time": "2023-08-13T16:53:41.313777",
     "status": "completed"
    },
    "tags": []
   },
   "outputs": [],
   "source": [
    "prediction = np.array(final_y_pred, dtype=object)\n",
    "prediction[prediction == 0] = \"NEGATIVE\"\n",
    "prediction[prediction == 1] = \"POSITIVE\"\n"
   ]
  },
  {
   "cell_type": "code",
   "execution_count": 72,
   "id": "065c5ac6",
   "metadata": {
    "execution": {
     "iopub.execute_input": "2023-08-13T16:53:41.417777Z",
     "iopub.status.busy": "2023-08-13T16:53:41.417374Z",
     "iopub.status.idle": "2023-08-13T16:53:41.466093Z",
     "shell.execute_reply": "2023-08-13T16:53:41.464874Z"
    },
    "papermill": {
     "duration": 0.082223,
     "end_time": "2023-08-13T16:53:41.468973",
     "exception": false,
     "start_time": "2023-08-13T16:53:41.386750",
     "status": "completed"
    },
    "tags": []
   },
   "outputs": [],
   "source": [
    "submission = pd.DataFrame(columns = ['id', 'sentiment'])\n",
    "submission['id']= [i for i in range(len(test))]\n",
    "submission['sentiment'] = prediction"
   ]
  },
  {
   "cell_type": "code",
   "execution_count": 73,
   "id": "62de5f87",
   "metadata": {
    "execution": {
     "iopub.execute_input": "2023-08-13T16:53:41.531951Z",
     "iopub.status.busy": "2023-08-13T16:53:41.530750Z",
     "iopub.status.idle": "2023-08-13T16:53:41.537737Z",
     "shell.execute_reply": "2023-08-13T16:53:41.536658Z"
    },
    "papermill": {
     "duration": 0.042192,
     "end_time": "2023-08-13T16:53:41.540225",
     "exception": false,
     "start_time": "2023-08-13T16:53:41.498033",
     "status": "completed"
    },
    "tags": []
   },
   "outputs": [
    {
     "data": {
      "text/plain": [
       "(55315, 2)"
      ]
     },
     "execution_count": 73,
     "metadata": {},
     "output_type": "execute_result"
    }
   ],
   "source": [
    "submission.shape"
   ]
  },
  {
   "cell_type": "code",
   "execution_count": 74,
   "id": "7805e1ae",
   "metadata": {
    "execution": {
     "iopub.execute_input": "2023-08-13T16:53:41.603394Z",
     "iopub.status.busy": "2023-08-13T16:53:41.602668Z",
     "iopub.status.idle": "2023-08-13T16:53:41.695202Z",
     "shell.execute_reply": "2023-08-13T16:53:41.693997Z"
    },
    "papermill": {
     "duration": 0.126523,
     "end_time": "2023-08-13T16:53:41.697837",
     "exception": false,
     "start_time": "2023-08-13T16:53:41.571314",
     "status": "completed"
    },
    "tags": []
   },
   "outputs": [],
   "source": [
    "submission.to_csv('submission.csv',index = False)"
   ]
  }
 ],
 "metadata": {
  "kernelspec": {
   "display_name": "Python 3",
   "language": "python",
   "name": "python3"
  },
  "language_info": {
   "codemirror_mode": {
    "name": "ipython",
    "version": 3
   },
   "file_extension": ".py",
   "mimetype": "text/x-python",
   "name": "python",
   "nbconvert_exporter": "python",
   "pygments_lexer": "ipython3",
   "version": "3.10.10"
  },
  "papermill": {
   "default_parameters": {},
   "duration": 1919.695138,
   "end_time": "2023-08-13T16:53:44.454093",
   "environment_variables": {},
   "exception": null,
   "input_path": "__notebook__.ipynb",
   "output_path": "__notebook__.ipynb",
   "parameters": {},
   "start_time": "2023-08-13T16:21:44.758955",
   "version": "2.4.0"
  }
 },
 "nbformat": 4,
 "nbformat_minor": 5
}
